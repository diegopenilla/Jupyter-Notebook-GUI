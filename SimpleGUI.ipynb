{
 "cells": [
  {
   "cell_type": "markdown",
   "metadata": {},
   "source": [
    "# Simple GUI for Dataframes\n",
    "\n",
    "Call this in your notebook using `%run this_notebook.ipynb`, when you have already defined a dataframe as `df`."
   ]
  },
  {
   "cell_type": "code",
   "execution_count": 41,
   "metadata": {},
   "outputs": [],
   "source": [
    "import pandas as pd\n",
    "import ipywidgets as widgets\n",
    "import numpy as np\n",
    "import matplotlib.pyplot as plt\n",
    "from matplotlib.pyplot import figure\n",
    "import seaborn as sns \n",
    "from IPython.display import display, clear_output, Markdown\n",
    "%matplotlib inline"
   ]
  },
  {
   "cell_type": "markdown",
   "metadata": {},
   "source": [
    "# Numeric Features"
   ]
  },
  {
   "cell_type": "code",
   "execution_count": 23,
   "metadata": {},
   "outputs": [],
   "source": [
    "numeric_features = []\n",
    "for i in df.columns:\n",
    "    if str(df[i].dtype) == 'int64' or str(df[i].dtype) == 'float64':\n",
    "        numeric_features.append(i)\n",
    "        \n",
    "columns = widgets.SelectMultiple(\n",
    "    options=numeric_features,\n",
    "    description='Numeric',\n",
    "    disabled=False\n",
    ")"
   ]
  },
  {
   "cell_type": "markdown",
   "metadata": {},
   "source": [
    "The value attribute of our widget returns a tuple:"
   ]
  },
  {
   "cell_type": "code",
   "execution_count": 46,
   "metadata": {
    "cell_style": "center"
   },
   "outputs": [],
   "source": [
    "# Plot the top column selected\n",
    "def histogram():\n",
    "    figure(figsize=(5,3))\n",
    "    plt.hist(df[columns.value[0]], bins=100)\n",
    "    plt.axvline(x=np.median(df[columns.value[0]]), color='r', linestyle='-')\n",
    "    plt.title(columns.value[0].upper() +'\\n Median ' + str(np.median(df[columns.value[0]])))\n",
    "    plt.show()"
   ]
  },
  {
   "cell_type": "code",
   "execution_count": 48,
   "metadata": {
    "cell_style": "center",
    "scrolled": true
   },
   "outputs": [],
   "source": [
    "# Plot a boxplot of the top column selected\n",
    "def boxplot():\n",
    "    figure(figsize=(5,3))\n",
    "    plt.boxplot(df[columns.value[0]])\n",
    "    plt.title('{}\\n MAX {}'.format(columns.value[0].upper(),\n",
    "                                         df[columns.value[0]].max()))\n",
    "    plt.show()"
   ]
  },
  {
   "cell_type": "code",
   "execution_count": 44,
   "metadata": {
    "cell_style": "center"
   },
   "outputs": [],
   "source": [
    "# Plot the top column selected\n",
    "def plot():\n",
    "    figure(figsize=(5,3))\n",
    "    plt.plot(df[columns.value[0]], color='black', linewidth=0.1)\n",
    "    plt.axhline(y=np.mean(df[columns.value[0]]), color='r', linestyle='-')\n",
    "    plt.title(columns.value[0].upper()+'\\n mean {:.2f}'.format(np.mean(df[columns.value[0]])))\n",
    "    plt.show()"
   ]
  },
  {
   "cell_type": "code",
   "execution_count": 7,
   "metadata": {
    "cell_style": "center"
   },
   "outputs": [],
   "source": [
    "# Describe selected columns\n",
    "def describe_columns():\n",
    "    print(df.describe().loc[:, list(columns.value)])\n"
   ]
  },
  {
   "cell_type": "code",
   "execution_count": 47,
   "metadata": {
    "cell_style": "center"
   },
   "outputs": [],
   "source": [
    "# Corrrelation plot of selected columns\n",
    "def correlation():\n",
    "    figure(figsize=(5,3))\n",
    "    sns.heatmap(df.loc[:, list(columns.value)].corr(), \n",
    "                square=True, cmap='RdYlGn')\n",
    "    plt.title('Correlation')\n",
    "    plt.show()"
   ]
  },
  {
   "cell_type": "markdown",
   "metadata": {},
   "source": [
    "## Categorical functions\n"
   ]
  },
  {
   "cell_type": "code",
   "execution_count": 9,
   "metadata": {},
   "outputs": [],
   "source": [
    "button2 = widgets.Button(description='Get Info')\n",
    "out2 = widgets.Output()\n",
    "def on_button2_clicked(b):\n",
    "    with out2:\n",
    "        clear_output()\n",
    "        my_col = df[cat_cols.value[0]]\n",
    "        many_na = sum(my_col.isna())\n",
    "        display(Markdown('''- The feature has in total {} unique values:\n",
    "- Contains {} missing values'''.format(len(set(my_col)), \n",
    "                                       many_na)))\n",
    "button2.on_click(on_button2_clicked)\n",
    "\n",
    "def display_cat():\n",
    "    display(cat_cols, widgets.VBox([button2, out2]))"
   ]
  },
  {
   "cell_type": "code",
   "execution_count": 10,
   "metadata": {},
   "outputs": [],
   "source": [
    "functions = {'Plot': plot, 'Histogram': histogram, 'Boxplot': boxplot, \n",
    "             'Correlation +': correlation, 'Description +': describe_columns, 'Show Categories': display_cat}\n",
    "\n",
    "opciones = widgets.Select(\n",
    "    options=['Plot', \n",
    "             'Histogram', \n",
    "             'Boxplot',\n",
    "             'Correlation +',\n",
    "             'Description +',\n",
    "             'Show Categories'],\n",
    "    #rows=10,\n",
    "    description='Options',\n",
    "    disabled=False\n",
    ")"
   ]
  },
  {
   "cell_type": "code",
   "execution_count": 11,
   "metadata": {},
   "outputs": [],
   "source": [
    "button = widgets.Button(description='Run')\n",
    "out = widgets.Output()\n",
    "def on_button_clicked(b):\n",
    "    with out:\n",
    "        clear_output()\n",
    "        functions[opciones.value]()\n",
    "button.on_click(on_button_clicked)"
   ]
  },
  {
   "cell_type": "markdown",
   "metadata": {},
   "source": [
    "## Some Info"
   ]
  },
  {
   "cell_type": "code",
   "execution_count": 21,
   "metadata": {},
   "outputs": [],
   "source": [
    "info = Markdown('''# Usual EDA\n",
    "The dataframe has been loaded as `df` and can be explored with the options below. It contains {} rows, {} features \n",
    "- For the numeric features you can select one more features (holding shift) in the 'Numeric' dropdown.\n",
    "- The options 'Correlation +' and 'Description +'\n",
    "accept the selected features\n",
    "- The options Plot, Histogram and Boxplot will make a graph of only one column. If more than one are selected, the one from the top will be chosen\n",
    "'''.format(df.shape[0], df.shape[1]))  \n",
    "\n",
    "\n",
    "line = Markdown('''______''')"
   ]
  },
  {
   "cell_type": "code",
   "execution_count": 33,
   "metadata": {},
   "outputs": [
    {
     "data": {
      "application/vnd.jupyter.widget-view+json": {
       "model_id": "1c83156dcf224348b0c3ef1716535a2e",
       "version_major": 2,
       "version_minor": 0
      },
      "text/plain": [
       "HBox(children=(VBox(children=(SelectMultiple(description='Numeric', options=('longitude', 'latitude', 'housing…"
      ]
     },
     "metadata": {},
     "output_type": "display_data"
    }
   ],
   "source": [
    "# deleted info and line below!\n",
    "display(widgets.HBox([widgets.VBox([columns,opciones, button]), \n",
    "                      widgets.VBox([out])]))"
   ]
  },
  {
   "cell_type": "code",
   "execution_count": null,
   "metadata": {},
   "outputs": [],
   "source": []
  }
 ],
 "metadata": {
  "kernelspec": {
   "display_name": "Python 3",
   "language": "python",
   "name": "python3"
  },
  "language_info": {
   "codemirror_mode": {
    "name": "ipython",
    "version": 3
   },
   "file_extension": ".py",
   "mimetype": "text/x-python",
   "name": "python",
   "nbconvert_exporter": "python",
   "pygments_lexer": "ipython3",
   "version": "3.6.6"
  },
  "toc": {
   "base_numbering": 1,
   "nav_menu": {},
   "number_sections": false,
   "sideBar": false,
   "skip_h1_title": false,
   "title_cell": "Table of Contents",
   "title_sidebar": "Contents",
   "toc_cell": false,
   "toc_position": {},
   "toc_section_display": false,
   "toc_window_display": false
  }
 },
 "nbformat": 4,
 "nbformat_minor": 2
}
