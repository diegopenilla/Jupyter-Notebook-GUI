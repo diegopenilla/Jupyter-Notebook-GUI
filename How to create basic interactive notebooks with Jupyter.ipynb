{
 "cells": [
  {
   "cell_type": "markdown",
   "metadata": {},
   "source": [
    "# How to create basic interactive notebooks in Jupyter\n",
    "\n",
    "For this tutorial, we will be talking about the package [ipywidgets](https://ipywidgets.readthedocs.io/en/stable/user_install.html). The easiest way I could find to add interactive functionality to my notebooks. It is really easy to implement and can be a quick and fun way of exploring data and analyzing results.You will notice that you can craft your own sets of widgets and keep them as tools to be applied under certain situations inside of different notebooks. This is exactly why I like them so much! By the end of this tutorial you will hopefully know how to set up a basic interface to interact with your functions. \n",
    "\n",
    "Before we start with a concrete example, let's have a brief intro into how to play around with some common widgets. You will see that having a widget ready to use in your Jupyter notebook, can be as easy as calling a single function."
   ]
  },
  {
   "cell_type": "markdown",
   "metadata": {},
   "source": [
    "### Adding widgets to your notebook\n",
    "Let's begin right away by creating a dropdown widget. (It will have three possible options to select and an initial value of 'H')."
   ]
  },
  {
   "cell_type": "code",
   "execution_count": 12,
   "metadata": {},
   "outputs": [
    {
     "data": {
      "application/vnd.jupyter.widget-view+json": {
       "model_id": "8947784d1c134d1c8d0c5fcf60465cd9",
       "version_major": 2,
       "version_minor": 0
      },
      "text/plain": [
       "Dropdown(description='Atom:', index=1, options=('C', 'H', 'N'), value='H')"
      ]
     },
     "metadata": {},
     "output_type": "display_data"
    }
   ],
   "source": [
    "import matplotlib.pyplot as plt\n",
    "import ipywidgets as widgets\n",
    "\n",
    "menu = widgets.Dropdown(\n",
    "    options=['C', 'H', 'N'],\n",
    "    value='H',\n",
    "    description='Atom:',\n",
    ")\n",
    "\n",
    "menu"
   ]
  },
  {
   "cell_type": "markdown",
   "metadata": {},
   "source": [
    "Look carefully: to create our dropdown menu we called the Dropdown function. This isn't really anything surprising, but I want to emphasize it because just knowing the widget you want to use is already a good part of the job. Check out [here](https://ipywidgets.readthedocs.io/en/stable/examples/Widget%20List.html)\n",
    " the list of widgets and the code to initialize them in your notebook, you will see that they are very intuitive to use. This was quite a discovery for me at the moment and I encourage you to go ahead and test some these code snippets by yourself.\n",
    "\n",
    "For example, similar to creating a dropdown menu, to add a checkbox you have to call the checkbox function and then specify a couple of intuitive parameters."
   ]
  },
  {
   "cell_type": "code",
   "execution_count": 2,
   "metadata": {},
   "outputs": [
    {
     "data": {
      "application/vnd.jupyter.widget-view+json": {
       "model_id": "3a3da6531ca44a449468103fcfad4ebf",
       "version_major": 2,
       "version_minor": 0
      },
      "text/plain": [
       "Checkbox(value=False, description='Check addition')"
      ]
     },
     "metadata": {},
     "output_type": "display_data"
    }
   ],
   "source": [
    "checkbox = widgets.Checkbox(\n",
    "    value=False,\n",
    "    description='Check addition',)\n",
    "checkbox"
   ]
  },
  {
   "cell_type": "code",
   "execution_count": 4,
   "metadata": {},
   "outputs": [
    {
     "data": {
      "text/plain": [
       "False"
      ]
     },
     "execution_count": 4,
     "metadata": {},
     "output_type": "execute_result"
    }
   ],
   "source": [
    "checkbox.value"
   ]
  },
  {
   "cell_type": "markdown",
   "metadata": {},
   "source": [
    "If you were to add a slider, same thing: you go to the widget list, you grab the snippet for a slider, change some parameters and paste it!"
   ]
  },
  {
   "cell_type": "code",
   "execution_count": 3,
   "metadata": {},
   "outputs": [
    {
     "data": {
      "application/vnd.jupyter.widget-view+json": {
       "model_id": "0a85dc9c3e3e48bcbf63873f014e57b6",
       "version_major": 2,
       "version_minor": 0
      },
      "text/plain": [
       "IntSlider(value=2, description='Number:', max=4, min=1)"
      ]
     },
     "metadata": {},
     "output_type": "display_data"
    }
   ],
   "source": [
    "slider = widgets.IntSlider(value=2, min=1,\n",
    "                           max=4, step=1,\n",
    "                           description='Number:')\n",
    "slider"
   ]
  },
  {
   "cell_type": "markdown",
   "metadata": {},
   "source": [
    "-Cool, so now we can add checkboxes, sliders and menus to the notebook. But what about it?\n",
    "\n",
    "After having designed certain widgets in your environment, a key idea is to refer to the current values of the widgets for the execution of functions. To retrieve the value of a widget object like menu all we have to do, is to call its value attribute by executing menu.value. Similarly, callingcheckbox.value will return the value of our checkbox.\n",
    "\n",
    "However, different widgets can hold different types of values. Whereas menu holds a string, our checkbox holds a boolean value and our slider an integer."
   ]
  },
  {
   "cell_type": "code",
   "execution_count": 13,
   "metadata": {},
   "outputs": [
    {
     "data": {
      "text/plain": [
       "str"
      ]
     },
     "execution_count": 13,
     "metadata": {},
     "output_type": "execute_result"
    }
   ],
   "source": [
    "type(menu.value)"
   ]
  },
  {
   "cell_type": "code",
   "execution_count": 14,
   "metadata": {},
   "outputs": [
    {
     "data": {
      "text/plain": [
       "bool"
      ]
     },
     "execution_count": 14,
     "metadata": {},
     "output_type": "execute_result"
    }
   ],
   "source": [
    "type(checkbox.value)"
   ]
  },
  {
   "cell_type": "code",
   "execution_count": 15,
   "metadata": {},
   "outputs": [
    {
     "data": {
      "text/plain": [
       "int"
      ]
     },
     "execution_count": 15,
     "metadata": {},
     "output_type": "execute_result"
    }
   ],
   "source": [
    "type(slider.value)"
   ]
  },
  {
   "cell_type": "markdown",
   "metadata": {},
   "source": [
    "You will have to keep this mind when you are joining your widgets to work together. But hopefully by now you can already see where this is going…"
   ]
  },
  {
   "cell_type": "code",
   "execution_count": 4,
   "metadata": {},
   "outputs": [],
   "source": [
    "if checkbox.value:\n",
    "    print((menu.value+'-')*slider.value)"
   ]
  },
  {
   "cell_type": "markdown",
   "metadata": {},
   "source": [
    "## Organizing your widgets\n",
    "\n",
    "It seems rather inconvenient to have to scroll back and forth around the notebook to interact with our widgets. Instead, one would prefer to organize widgets to be displayed together. And there are two functions with which you can easily do this. To layout our widget objects vertically or horizontally we can use the functions `widgets.VBox` or `widgets.HBox` respectively. These functions accept only one parameter: a list of widget objects.\n",
    "\n",
    "- Let's organize the widgets we've defined so far in a vertical fashion."
   ]
  },
  {
   "cell_type": "code",
   "execution_count": 5,
   "metadata": {},
   "outputs": [
    {
     "data": {
      "application/vnd.jupyter.widget-view+json": {
       "model_id": "03e1fc543841401eb2114b55b4cdca75",
       "version_major": 2,
       "version_minor": 0
      },
      "text/plain": [
       "VBox(children=(Checkbox(value=False, description='Check addition'), Dropdown(description='Atom:', index=1, opt…"
      ]
     },
     "metadata": {},
     "output_type": "display_data"
    }
   ],
   "source": [
    "#display widgets vertically widgets.VBox()\n",
    "widgets.VBox([checkbox, menu, slider])"
   ]
  },
  {
   "cell_type": "markdown",
   "metadata": {},
   "source": [
    "- Changing the order of items will change the outcome"
   ]
  },
  {
   "cell_type": "code",
   "execution_count": 6,
   "metadata": {},
   "outputs": [
    {
     "data": {
      "application/vnd.jupyter.widget-view+json": {
       "model_id": "9008404f142542589c550757b0ab05c1",
       "version_major": 2,
       "version_minor": 0
      },
      "text/plain": [
       "VBox(children=(Dropdown(description='Atom:', index=1, options=('C', 'H', 'N'), value='H'), IntSlider(value=2, …"
      ]
     },
     "metadata": {},
     "output_type": "display_data"
    }
   ],
   "source": [
    "# display widgets vertically widgets.VBox()\n",
    "widgets.VBox([menu, slider, checkbox])"
   ]
  },
  {
   "cell_type": "markdown",
   "metadata": {},
   "source": [
    "- You can also use these functions inside one another, to customize how your interface is going to look like in more detail. As you start creating more and more widgets, this will be very handy."
   ]
  },
  {
   "cell_type": "code",
   "execution_count": 7,
   "metadata": {},
   "outputs": [
    {
     "data": {
      "application/vnd.jupyter.widget-view+json": {
       "model_id": "5570461508e04c4f83223d1f66b4909d",
       "version_major": 2,
       "version_minor": 0
      },
      "text/plain": [
       "HBox(children=(VBox(children=(Dropdown(description='Atom:', index=1, options=('C', 'H', 'N'), value='H'), Chec…"
      ]
     },
     "metadata": {},
     "output_type": "display_data"
    }
   ],
   "source": [
    "# Using VBox inside of HBox\n",
    "widgets.HBox([widgets.VBox([menu, checkbox]), slider])"
   ]
  },
  {
   "cell_type": "markdown",
   "metadata": {},
   "source": [
    "## What about buttons!\n",
    "\n",
    "Buttons are where the real sauce is. Without them we will always have to execute cells to make stuff happen (as we normally do). But with buttons, we can tell our notebook to react. \n",
    "\n",
    "Below you will find a little snippet I use all the time when creating buttons. There is a whole a lot to talk about in here, but for this brief introduction I'll keep it short. Just like creating a slider or a text window, we create a button with a single function `Button`. **But pressing the button , would do nothing unless we also indicate its output**. So there are a couple of additional things we must do when creating a new button. \n",
    "- Create an \"output\" object with the function `Output` \n",
    "- Create a function that specifies what happens when the button is pressed, the *reaction*.\n",
    "- Link the button and the reaction with the `.on_click `method.\n",
    "\n",
    "Let's check all of this in the snippet below. Make sure to notice where to change what's going to happen when you press the button and you will be good to go."
   ]
  },
  {
   "cell_type": "code",
   "execution_count": 10,
   "metadata": {},
   "outputs": [
    {
     "data": {
      "application/vnd.jupyter.widget-view+json": {
       "model_id": "3a86a658b67b4ad886d782755e480470",
       "version_major": 2,
       "version_minor": 0
      },
      "text/plain": [
       "VBox(children=(Button(description='Print Me', style=ButtonStyle()), Output()))"
      ]
     },
     "metadata": {},
     "output_type": "display_data"
    }
   ],
   "source": [
    "# create a button\n",
    "button= widgets.Button(description='Print Me')\n",
    "# create its output\n",
    "out = widgets.Output()\n",
    "# reaction when button is pressed\n",
    "def reaction(_):\n",
    "    with out:\n",
    "        # Change whatever you want here!\n",
    "        print('Yes!')\n",
    "# linking reaction to button\n",
    "button.on_click(reaction)\n",
    "# display button and its output\n",
    "widgets.VBox([button,out])"
   ]
  },
  {
   "cell_type": "code",
   "execution_count": null,
   "metadata": {},
   "outputs": [],
   "source": []
  },
  {
   "cell_type": "code",
   "execution_count": null,
   "metadata": {},
   "outputs": [],
   "source": []
  },
  {
   "cell_type": "code",
   "execution_count": null,
   "metadata": {},
   "outputs": [],
   "source": []
  },
  {
   "cell_type": "code",
   "execution_count": null,
   "metadata": {},
   "outputs": [],
   "source": []
  },
  {
   "cell_type": "code",
   "execution_count": null,
   "metadata": {},
   "outputs": [],
   "source": []
  },
  {
   "cell_type": "code",
   "execution_count": null,
   "metadata": {},
   "outputs": [],
   "source": []
  },
  {
   "cell_type": "markdown",
   "metadata": {},
   "source": [
    "\n",
    "\n",
    "\n",
    "\n",
    "\n",
    "As we defined inside of the `reaction` function, when we press the button: \"Yes!\" would be printed. Here is a fun little thing: we are using `widgets.VBox` to display the button and its output together! When we click the button, the output is displayed directly below the button. \n",
    "\n",
    "But there is a small problem: clicking the button several times will continuously print \"Yes!\" as shown above. If instead of printing a string we were displaying a plot, this will make it look quite messy. To avoid it, every time we click the button we have to refresh the display with the `clear_output` function.\n",
    "\n",
    "- Let's make a new button to show this!"
   ]
  },
  {
   "cell_type": "code",
   "execution_count": 18,
   "metadata": {},
   "outputs": [
    {
     "data": {
      "application/vnd.jupyter.widget-view+json": {
       "model_id": "bad7b2bda8e2447a9db5da1aa53a91ec",
       "version_major": 2,
       "version_minor": 0
      },
      "text/plain": [
       "VBox(children=(Button(description='Plot Me', style=ButtonStyle()), Output()))"
      ]
     },
     "metadata": {},
     "output_type": "display_data"
    }
   ],
   "source": [
    "from IPython.display import clear_output\n",
    "\n",
    "button2 = widgets.Button(description='Plot Me')\n",
    "out2 = widgets.Output()\n",
    "def reaction2(_):\n",
    "    with out2:\n",
    "        # Refreshing display\n",
    "        clear_output()\n",
    "        # Change whatever you want here!\n",
    "        plt.plot([i**3 for i in range(10)])\n",
    "        plt.title('Yes!')\n",
    "        plt.show()\n",
    "# Liking button2 with reaction2\n",
    "button2.on_click(reaction2)\n",
    "# Displaying button2 and its output\n",
    "widgets.VBox([button2,out2])"
   ]
  },
  {
   "cell_type": "markdown",
   "metadata": {},
   "source": [
    "The `clear_output` function is the first thing that happens when the button is pressed, refreshing the display and solving the problem.\n",
    "\n",
    "Now that you know how to make buttons, a couple of widgets and how to organize them, you really have all the tools you need to start making your own widget boards, as I like to call them."
   ]
  },
  {
   "cell_type": "markdown",
   "metadata": {},
   "source": [
    "## Using widgets to explore a DataFrame"
   ]
  },
  {
   "cell_type": "markdown",
   "metadata": {},
   "source": [
    "Let's have a concrete of example of what you can do with some of the functions we've talked about. Assume that you are comfortably working on some notebook on a rainy Sunday afternoon, when suddenly a csv file appears. You really want to get a quick glimpse of it, but without all the trouble of having to check stuff manually. This is exactly of the kind of situations where widgets have become very handy for me! Whenever there is a repetitive task, you can call your own library of widgets for aid. \n",
    "\n",
    "To show this, assume that you had written notebook long ago (where you had defined some useful functions and widgets). You can execute the old notebook into your current notebook using a magic command from Jupyter: `%run old_notebook.ipynb`.\n",
    "\n",
    "This is a little trick I like a lot. And we can use it to summon the widgets into our notebook.\n",
    "\n",
    "To show this, we will import a saved interface into our notebook. *This interface requires a dataframe to be defined as `df` to work. So we will have to import a dataframe first.*"
   ]
  },
  {
   "cell_type": "code",
   "execution_count": 27,
   "metadata": {},
   "outputs": [],
   "source": [
    "# Importing Data\n",
    "import pandas as pd\n",
    "df = pd.read_csv(\"https://storage.googleapis.com/mledu-datasets/california_housing_train.csv\", sep=\",\")"
   ]
  },
  {
   "cell_type": "code",
   "execution_count": 29,
   "metadata": {},
   "outputs": [
    {
     "data": {
      "application/vnd.jupyter.widget-view+json": {
       "model_id": "336e34a27cc14353aea8d024a99aa157",
       "version_major": 2,
       "version_minor": 0
      },
      "text/plain": [
       "HBox(children=(VBox(children=(SelectMultiple(description='Numeric', options=('longitude', 'latitude', 'housing…"
      ]
     },
     "metadata": {},
     "output_type": "display_data"
    }
   ],
   "source": [
    "%run SimpleGUI.ipynb"
   ]
  },
  {
   "cell_type": "markdown",
   "metadata": {},
   "source": [
    "Here, we execute a set of widgets from a saved notebook using `%run SimpleGUI.ipynb`. Note that when you execute code like this, **the variables from your current notebook will be available for it**. In this case, `SimpleGUI.ipynb` was written to work with a dataframe defined as `df` , but `df` wasn't defined anywhere inside of `SimpleGUI.ipynb` . When you run it, the `df` **defined in your current notebook is the one that is used to set up the interface**. This is the key principle that saves me a lot of time and allows me to reuse my 'widget boards' without modifying any line of code. In other words, remembering the variable(s) that your widgets need to be functional can save a lot of time. \n",
    "\n",
    "You are now ready to start playing around with widgets in Jupyter! There is still a lot we haven't covered, but that's it from me for now. Thanks for taking a look here I really appreciate it. "
   ]
  }
 ],
 "metadata": {
  "kernelspec": {
   "display_name": "Python 3",
   "language": "python",
   "name": "python3"
  },
  "language_info": {
   "codemirror_mode": {
    "name": "ipython",
    "version": 3
   },
   "file_extension": ".py",
   "mimetype": "text/x-python",
   "name": "python",
   "nbconvert_exporter": "python",
   "pygments_lexer": "ipython3",
   "version": "3.6.6"
  },
  "toc": {
   "base_numbering": 1,
   "nav_menu": {},
   "number_sections": false,
   "sideBar": false,
   "skip_h1_title": false,
   "title_cell": "Table of Contents",
   "title_sidebar": "Contents",
   "toc_cell": false,
   "toc_position": {},
   "toc_section_display": false,
   "toc_window_display": false
  },
  "widgets": {
   "application/vnd.jupyter.widget-state+json": {
    "state": {
     "00d7814f0fac488bbfbcf1f62b7bfe3b": {
      "model_module": "@jupyter-widgets/base",
      "model_module_version": "1.0.0",
      "model_name": "LayoutModel",
      "state": {}
     },
     "03bafb8d47a54c9684bdcc6263b1ff14": {
      "model_module": "@jupyter-widgets/controls",
      "model_module_version": "1.2.0",
      "model_name": "VBoxModel",
      "state": {
       "children": [
        "IPY_MODEL_1d679fc71f9748cca6dffbc67340dd87",
        "IPY_MODEL_634103c56a954455ba1b9e902dcf84fa"
       ],
       "layout": "IPY_MODEL_33c49ff1deea4741b524bc2042806532"
      }
     },
     "03e1fc543841401eb2114b55b4cdca75": {
      "model_module": "@jupyter-widgets/controls",
      "model_module_version": "1.2.0",
      "model_name": "VBoxModel",
      "state": {
       "children": [
        "IPY_MODEL_3a3da6531ca44a449468103fcfad4ebf",
        "IPY_MODEL_fcb2aaa8439046458f2bdcdf26bfa7e6",
        "IPY_MODEL_0a85dc9c3e3e48bcbf63873f014e57b6"
       ],
       "layout": "IPY_MODEL_e9c9fb6dc1164b3694cc24b68f9702f1"
      }
     },
     "040b6a6168054cccbc716077344a7a7e": {
      "model_module": "@jupyter-widgets/base",
      "model_module_version": "1.0.0",
      "model_name": "LayoutModel",
      "state": {}
     },
     "0621d3da8e0f4f55adf2f2bfe752bbd9": {
      "model_module": "@jupyter-widgets/controls",
      "model_module_version": "1.2.0",
      "model_name": "VBoxModel",
      "state": {
       "children": [
        "IPY_MODEL_1e75e39064b846d3ac50da64de2a4f56",
        "IPY_MODEL_edbbf977e4b348298e4f8bc602b86962"
       ],
       "layout": "IPY_MODEL_3e1e1dc5ba584d52b0514a1dcdbb9ea3"
      }
     },
     "066bf8714bce481585d4c89d2454eb66": {
      "model_module": "@jupyter-widgets/base",
      "model_module_version": "1.0.0",
      "model_name": "LayoutModel",
      "state": {}
     },
     "0a85dc9c3e3e48bcbf63873f014e57b6": {
      "model_module": "@jupyter-widgets/controls",
      "model_module_version": "1.2.0",
      "model_name": "IntSliderModel",
      "state": {
       "description": "Number:",
       "layout": "IPY_MODEL_714674e83f044bdeac835b270f910af0",
       "max": 4,
       "min": 1,
       "style": "IPY_MODEL_cd04bdea77964c8e9a259c1d1dd3ceb6",
       "value": 2
      }
     },
     "0b4cc5db8d164d949fd35274b1936397": {
      "model_module": "@jupyter-widgets/controls",
      "model_module_version": "1.2.0",
      "model_name": "ButtonModel",
      "state": {
       "description": "Plot Me",
       "layout": "IPY_MODEL_533d34c77e8c406d9698fc03e1420938",
       "style": "IPY_MODEL_cbb0b3e718004a4bbd7ce7215c0bd9ae"
      }
     },
     "0b57f00ac920428694eaf7f1ba16971e": {
      "model_module": "@jupyter-widgets/base",
      "model_module_version": "1.0.0",
      "model_name": "LayoutModel",
      "state": {}
     },
     "0b7b8abc5af74042a024695adb898c28": {
      "model_module": "@jupyter-widgets/controls",
      "model_module_version": "1.2.0",
      "model_name": "VBoxModel",
      "state": {
       "children": [
        "IPY_MODEL_1e75e39064b846d3ac50da64de2a4f56",
        "IPY_MODEL_edbbf977e4b348298e4f8bc602b86962"
       ],
       "layout": "IPY_MODEL_7bd1fa64bf294a6f89978e9a08f132d5"
      }
     },
     "0e02b6b8d7dc422c839b3495854b9ac3": {
      "model_module": "@jupyter-widgets/controls",
      "model_module_version": "1.2.0",
      "model_name": "VBoxModel",
      "state": {
       "children": [
        "IPY_MODEL_7ad6f55329ea4cf79876d3071c37ff21",
        "IPY_MODEL_b71586c6364c4cd8a06388955127a5ec"
       ],
       "layout": "IPY_MODEL_529dc841cf6f48a3b837772dfe6a0542"
      }
     },
     "100e4257771e40bab92525c981e29561": {
      "model_module": "@jupyter-widgets/base",
      "model_module_version": "1.0.0",
      "model_name": "LayoutModel",
      "state": {}
     },
     "130af3160afa4284ba5f0f33dc7f501c": {
      "model_module": "@jupyter-widgets/base",
      "model_module_version": "1.0.0",
      "model_name": "LayoutModel",
      "state": {}
     },
     "14641968e3554e80ad63aab82941743d": {
      "model_module": "@jupyter-widgets/controls",
      "model_module_version": "1.2.0",
      "model_name": "SelectModel",
      "state": {
       "_options_labels": [
        "Plot",
        "Histogram",
        "Boxplot",
        "Correlation +",
        "Description +",
        "Show Categories"
       ],
       "description": "Options",
       "index": 0,
       "layout": "IPY_MODEL_5d8a040f7cd54aa8ba5cbaa55a3c20ba",
       "style": "IPY_MODEL_6ed89cd70a3441d3b15ebafe52a2bb72"
      }
     },
     "1585dd65ef6240e689d1ddaa554547cd": {
      "model_module": "@jupyter-widgets/controls",
      "model_module_version": "1.2.0",
      "model_name": "CheckboxModel",
      "state": {
       "description": "Check addition",
       "disabled": false,
       "layout": "IPY_MODEL_db208a0fdc144ce2a8052010f86d3025",
       "style": "IPY_MODEL_2c8c60577c024e0ca8d2364643aa9347",
       "value": false
      }
     },
     "19e7fdcf6ba741519b6bb4e31c1a5ea1": {
      "model_module": "@jupyter-widgets/base",
      "model_module_version": "1.0.0",
      "model_name": "LayoutModel",
      "state": {}
     },
     "1a8f8bec34264da8a039cbe3590bc64c": {
      "model_module": "@jupyter-widgets/controls",
      "model_module_version": "1.2.0",
      "model_name": "ButtonModel",
      "state": {
       "description": "Get Info",
       "layout": "IPY_MODEL_100e4257771e40bab92525c981e29561",
       "style": "IPY_MODEL_d27b082d2c814ac18f84d3b0e05de626"
      }
     },
     "1c5631081b504783936452a91c5b13ee": {
      "model_module": "@jupyter-widgets/base",
      "model_module_version": "1.0.0",
      "model_name": "LayoutModel",
      "state": {}
     },
     "1ca831c732a1450e932d72232f529bf9": {
      "model_module": "@jupyter-widgets/base",
      "model_module_version": "1.0.0",
      "model_name": "LayoutModel",
      "state": {}
     },
     "1cc9772b21174f6abaf3c587488a3cc1": {
      "model_module": "@jupyter-widgets/base",
      "model_module_version": "1.0.0",
      "model_name": "LayoutModel",
      "state": {}
     },
     "1d679fc71f9748cca6dffbc67340dd87": {
      "model_module": "@jupyter-widgets/controls",
      "model_module_version": "1.2.0",
      "model_name": "ButtonModel",
      "state": {
       "description": "Plot Me",
       "layout": "IPY_MODEL_cc66b62e3f004df6a46bcb0be42e8c6d",
       "style": "IPY_MODEL_30b0ab85a9504153b6ad65fa30909911"
      }
     },
     "1dabfeeea8714817b5640390d6baf11c": {
      "model_module": "@jupyter-widgets/controls",
      "model_module_version": "1.2.0",
      "model_name": "HBoxModel",
      "state": {
       "children": [
        "IPY_MODEL_978d1e145330402c8dd0a5b1669a8de7",
        "IPY_MODEL_ef131a5fe7664762af858314371ec41c"
       ],
       "layout": "IPY_MODEL_fb2a05264fe4426cbe4f8220494e1f92"
      }
     },
     "1e58820072ec43f39c6d52791b3b9483": {
      "model_module": "@jupyter-widgets/controls",
      "model_module_version": "1.2.0",
      "model_name": "VBoxModel",
      "state": {
       "children": [
        "IPY_MODEL_1e75e39064b846d3ac50da64de2a4f56",
        "IPY_MODEL_edbbf977e4b348298e4f8bc602b86962"
       ],
       "layout": "IPY_MODEL_de1ad29c10224f708c70fa53fcc04539"
      }
     },
     "1e75e39064b846d3ac50da64de2a4f56": {
      "model_module": "@jupyter-widgets/controls",
      "model_module_version": "1.2.0",
      "model_name": "DropdownModel",
      "state": {
       "_options_labels": [
        "C",
        "H",
        "N"
       ],
       "description": "Atom:",
       "index": 1,
       "layout": "IPY_MODEL_81628337b1f94b93be3a92333b4cad85",
       "style": "IPY_MODEL_219319093aa04c0e9697a7bc21d82146"
      }
     },
     "21090967838e420fbb7b73fa7b9453c7": {
      "model_module": "@jupyter-widgets/controls",
      "model_module_version": "1.2.0",
      "model_name": "ButtonStyleModel",
      "state": {}
     },
     "219319093aa04c0e9697a7bc21d82146": {
      "model_module": "@jupyter-widgets/controls",
      "model_module_version": "1.2.0",
      "model_name": "DescriptionStyleModel",
      "state": {
       "description_width": ""
      }
     },
     "21d2c5efbaf14288a661953293724392": {
      "model_module": "@jupyter-widgets/controls",
      "model_module_version": "1.2.0",
      "model_name": "VBoxModel",
      "state": {
       "children": [
        "IPY_MODEL_98cd70abd1cd4c9cad5d47e3e85f355b",
        "IPY_MODEL_14641968e3554e80ad63aab82941743d",
        "IPY_MODEL_bce9d34f39654f1a8e97fb8d86e5b7f0"
       ],
       "layout": "IPY_MODEL_d431e598ad90456ca22fcbf4b141df6a"
      }
     },
     "22f67d9655154de99eb98d08b95e0018": {
      "model_module": "@jupyter-widgets/base",
      "model_module_version": "1.0.0",
      "model_name": "LayoutModel",
      "state": {}
     },
     "232467ca5f784e059d19d3b7caedc87c": {
      "model_module": "@jupyter-widgets/output",
      "model_module_version": "1.0.0",
      "model_name": "OutputModel",
      "state": {
       "layout": "IPY_MODEL_00d7814f0fac488bbfbcf1f62b7bfe3b",
       "outputs": [
        {
         "data": {
          "image/png": "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\n",
          "text/plain": "<Figure size 432x288 with 1 Axes>"
         },
         "metadata": {
          "needs_background": "light"
         },
         "output_type": "display_data"
        }
       ]
      }
     },
     "2418dc6d97a740738709706e7854dd37": {
      "model_module": "@jupyter-widgets/base",
      "model_module_version": "1.0.0",
      "model_name": "LayoutModel",
      "state": {}
     },
     "24c91982a8ee4658899064e9a9d864a5": {
      "model_module": "@jupyter-widgets/output",
      "model_module_version": "1.0.0",
      "model_name": "OutputModel",
      "state": {
       "layout": "IPY_MODEL_79790de1ae6b4de2b1df9498cb991795",
       "outputs": [
        {
         "name": "stdout",
         "output_type": "stream",
         "text": "Yes!\nYes!\n"
        }
       ]
      }
     },
     "2a8e1384a5f0430d85594515401e470a": {
      "model_module": "@jupyter-widgets/base",
      "model_module_version": "1.0.0",
      "model_name": "LayoutModel",
      "state": {}
     },
     "2c8c60577c024e0ca8d2364643aa9347": {
      "model_module": "@jupyter-widgets/controls",
      "model_module_version": "1.2.0",
      "model_name": "DescriptionStyleModel",
      "state": {
       "description_width": ""
      }
     },
     "2e1c9c18e16c4223a3225a55b90ab9f8": {
      "model_module": "@jupyter-widgets/controls",
      "model_module_version": "1.2.0",
      "model_name": "HBoxModel",
      "state": {
       "children": [
        "IPY_MODEL_1e58820072ec43f39c6d52791b3b9483",
        "IPY_MODEL_ef131a5fe7664762af858314371ec41c"
       ],
       "layout": "IPY_MODEL_9e59a62d5c794265bf294e82233ca296"
      }
     },
     "2e2800abc2904c98950bea94ce76a5ed": {
      "model_module": "@jupyter-widgets/base",
      "model_module_version": "1.0.0",
      "model_name": "LayoutModel",
      "state": {}
     },
     "30b0ab85a9504153b6ad65fa30909911": {
      "model_module": "@jupyter-widgets/controls",
      "model_module_version": "1.2.0",
      "model_name": "ButtonStyleModel",
      "state": {}
     },
     "318e4446a91f4ac0a503798ebff74dac": {
      "model_module": "@jupyter-widgets/controls",
      "model_module_version": "1.2.0",
      "model_name": "VBoxModel",
      "state": {
       "children": [
        "IPY_MODEL_1e75e39064b846d3ac50da64de2a4f56",
        "IPY_MODEL_edbbf977e4b348298e4f8bc602b86962"
       ],
       "layout": "IPY_MODEL_bc57088100c3417fb3ce582863c24b3a"
      }
     },
     "336e34a27cc14353aea8d024a99aa157": {
      "model_module": "@jupyter-widgets/controls",
      "model_module_version": "1.2.0",
      "model_name": "HBoxModel",
      "state": {
       "children": [
        "IPY_MODEL_21d2c5efbaf14288a661953293724392",
        "IPY_MODEL_e79a2abf2962437c930209fe3e5f5933"
       ],
       "layout": "IPY_MODEL_b40e9b1916204ec4b342051a8b027594"
      }
     },
     "33c49ff1deea4741b524bc2042806532": {
      "model_module": "@jupyter-widgets/base",
      "model_module_version": "1.0.0",
      "model_name": "LayoutModel",
      "state": {}
     },
     "361cd289553e4edb84c5922a938784b1": {
      "model_module": "@jupyter-widgets/base",
      "model_module_version": "1.0.0",
      "model_name": "LayoutModel",
      "state": {}
     },
     "37d433c65cb14bd7a9494399e8b63d30": {
      "model_module": "@jupyter-widgets/controls",
      "model_module_version": "1.2.0",
      "model_name": "ButtonStyleModel",
      "state": {}
     },
     "38ddb2de02e445c99bedff9f4d24ed89": {
      "model_module": "@jupyter-widgets/base",
      "model_module_version": "1.0.0",
      "model_name": "LayoutModel",
      "state": {}
     },
     "3913b47ef3cd4712b14b82a91e5dd905": {
      "model_module": "@jupyter-widgets/controls",
      "model_module_version": "1.2.0",
      "model_name": "HBoxModel",
      "state": {
       "children": [
        "IPY_MODEL_7649181d7a974f759ffd9e171e7337c5",
        "IPY_MODEL_c135deed67f548f1a7bf9fbb5cd9ef8f"
       ],
       "layout": "IPY_MODEL_fd656b251e0e4406b5ec13a7e7d8ec27"
      }
     },
     "3a38464628184625a1e4a415b8780733": {
      "model_module": "@jupyter-widgets/base",
      "model_module_version": "1.0.0",
      "model_name": "LayoutModel",
      "state": {}
     },
     "3a3da6531ca44a449468103fcfad4ebf": {
      "model_module": "@jupyter-widgets/controls",
      "model_module_version": "1.2.0",
      "model_name": "CheckboxModel",
      "state": {
       "description": "Check addition",
       "disabled": false,
       "layout": "IPY_MODEL_4641b9d40b6043309753921ebcc8a879",
       "style": "IPY_MODEL_4b46edc0b2ff4f56ad83cf98cea50a93",
       "value": false
      }
     },
     "3a6f505af3744efdad2a2af2d98a3453": {
      "model_module": "@jupyter-widgets/controls",
      "model_module_version": "1.2.0",
      "model_name": "TextModel",
      "state": {
       "description": "Text Window:",
       "layout": "IPY_MODEL_feae0feb085e4b159dcd4e94f9f2f11f",
       "style": "IPY_MODEL_4e283350958443c0b8a23ab35fe35ab0",
       "value": "Tic Toc"
      }
     },
     "3a86a658b67b4ad886d782755e480470": {
      "model_module": "@jupyter-widgets/controls",
      "model_module_version": "1.2.0",
      "model_name": "VBoxModel",
      "state": {
       "children": [
        "IPY_MODEL_508b8fdf16244ca88a016727061bb0ba",
        "IPY_MODEL_cd12745cd357497d9a8b5a496ed010be"
       ],
       "layout": "IPY_MODEL_9a2ac11d4fb9465bbfd6403d0726b447"
      }
     },
     "3d4118c702544df1bf96b9edfdbbaf89": {
      "model_module": "@jupyter-widgets/base",
      "model_module_version": "1.0.0",
      "model_name": "LayoutModel",
      "state": {}
     },
     "3e1e1dc5ba584d52b0514a1dcdbb9ea3": {
      "model_module": "@jupyter-widgets/base",
      "model_module_version": "1.0.0",
      "model_name": "LayoutModel",
      "state": {}
     },
     "3f2ad3ccc84e40048b92d0bc8fca3e0f": {
      "model_module": "@jupyter-widgets/base",
      "model_module_version": "1.0.0",
      "model_name": "LayoutModel",
      "state": {}
     },
     "41cc0a8c47464baca894f100557195af": {
      "model_module": "@jupyter-widgets/base",
      "model_module_version": "1.0.0",
      "model_name": "LayoutModel",
      "state": {}
     },
     "4243952757cf431c83217a578e90eb88": {
      "model_module": "@jupyter-widgets/base",
      "model_module_version": "1.0.0",
      "model_name": "LayoutModel",
      "state": {}
     },
     "42c230f54bc64526b77eb5bc2a17817e": {
      "model_module": "@jupyter-widgets/base",
      "model_module_version": "1.0.0",
      "model_name": "LayoutModel",
      "state": {}
     },
     "4641b9d40b6043309753921ebcc8a879": {
      "model_module": "@jupyter-widgets/base",
      "model_module_version": "1.0.0",
      "model_name": "LayoutModel",
      "state": {}
     },
     "49da2cd5ea1c407ca4bb2abf49fbf599": {
      "model_module": "@jupyter-widgets/base",
      "model_module_version": "1.0.0",
      "model_name": "LayoutModel",
      "state": {}
     },
     "4a3e2e37ce1745e1813430c989229d53": {
      "model_module": "@jupyter-widgets/controls",
      "model_module_version": "1.2.0",
      "model_name": "ButtonModel",
      "state": {
       "description": "Plot Me",
       "layout": "IPY_MODEL_1ca831c732a1450e932d72232f529bf9",
       "style": "IPY_MODEL_37d433c65cb14bd7a9494399e8b63d30"
      }
     },
     "4a53e2e877e6440580d11fc474043888": {
      "model_module": "@jupyter-widgets/controls",
      "model_module_version": "1.2.0",
      "model_name": "ButtonModel",
      "state": {
       "description": "Print Me",
       "layout": "IPY_MODEL_85876805102342d1bccce7e1966fad7f",
       "style": "IPY_MODEL_f1330428d0574b4882b561c393bd77dc"
      }
     },
     "4b4405d82c39480cb1abe090e737b95e": {
      "model_module": "@jupyter-widgets/base",
      "model_module_version": "1.0.0",
      "model_name": "LayoutModel",
      "state": {}
     },
     "4b46edc0b2ff4f56ad83cf98cea50a93": {
      "model_module": "@jupyter-widgets/controls",
      "model_module_version": "1.2.0",
      "model_name": "DescriptionStyleModel",
      "state": {
       "description_width": ""
      }
     },
     "4b94f56705fa43c3b070d6b9001f86d4": {
      "model_module": "@jupyter-widgets/base",
      "model_module_version": "1.0.0",
      "model_name": "LayoutModel",
      "state": {}
     },
     "4d92f74cb66741a0be8a1f60ab6a1585": {
      "model_module": "@jupyter-widgets/controls",
      "model_module_version": "1.2.0",
      "model_name": "DescriptionStyleModel",
      "state": {
       "description_width": ""
      }
     },
     "4db083451e0d452492a3584b6b60ff1e": {
      "model_module": "@jupyter-widgets/base",
      "model_module_version": "1.0.0",
      "model_name": "LayoutModel",
      "state": {}
     },
     "4e283350958443c0b8a23ab35fe35ab0": {
      "model_module": "@jupyter-widgets/controls",
      "model_module_version": "1.2.0",
      "model_name": "DescriptionStyleModel",
      "state": {
       "description_width": ""
      }
     },
     "4e79053acdd2485391837b39f6e12715": {
      "model_module": "@jupyter-widgets/output",
      "model_module_version": "1.0.0",
      "model_name": "OutputModel",
      "state": {
       "layout": "IPY_MODEL_92286f10278f498ebe6ef2b5749ab8d4",
       "outputs": [
        {
         "name": "stdout",
         "output_type": "stream",
         "text": "Yes!\n"
        }
       ]
      }
     },
     "4f05ec070b0d474087b0c7e6d92ba1fc": {
      "model_module": "@jupyter-widgets/controls",
      "model_module_version": "1.2.0",
      "model_name": "VBoxModel",
      "state": {
       "children": [
        "IPY_MODEL_b05173dae4e7495f91b22374e49aad7b",
        "IPY_MODEL_6b23333195bc4ac8b23acab687c9ea0b"
       ],
       "layout": "IPY_MODEL_ff8777db1b0147fcafcf994dd2eaedbc"
      }
     },
     "5074ee0f8d56479fae49f1a28b4a0f73": {
      "model_module": "@jupyter-widgets/controls",
      "model_module_version": "1.2.0",
      "model_name": "ButtonStyleModel",
      "state": {}
     },
     "508b8fdf16244ca88a016727061bb0ba": {
      "model_module": "@jupyter-widgets/controls",
      "model_module_version": "1.2.0",
      "model_name": "ButtonModel",
      "state": {
       "description": "Print Me",
       "layout": "IPY_MODEL_d7e5ef84d0d642bd895699a94d379489",
       "style": "IPY_MODEL_21090967838e420fbb7b73fa7b9453c7"
      }
     },
     "50f60ad49cdf431eb5eee017e7022b04": {
      "model_module": "@jupyter-widgets/controls",
      "model_module_version": "1.2.0",
      "model_name": "VBoxModel",
      "state": {
       "children": [
        "IPY_MODEL_edbbf977e4b348298e4f8bc602b86962",
        "IPY_MODEL_1e75e39064b846d3ac50da64de2a4f56",
        "IPY_MODEL_ef131a5fe7664762af858314371ec41c"
       ],
       "layout": "IPY_MODEL_1c5631081b504783936452a91c5b13ee"
      }
     },
     "529dc841cf6f48a3b837772dfe6a0542": {
      "model_module": "@jupyter-widgets/base",
      "model_module_version": "1.0.0",
      "model_name": "LayoutModel",
      "state": {}
     },
     "52ad4bb44d784e7a898382f2df0ba460": {
      "model_module": "@jupyter-widgets/base",
      "model_module_version": "1.0.0",
      "model_name": "LayoutModel",
      "state": {}
     },
     "533d34c77e8c406d9698fc03e1420938": {
      "model_module": "@jupyter-widgets/base",
      "model_module_version": "1.0.0",
      "model_name": "LayoutModel",
      "state": {}
     },
     "54012f057d094c90bedcc86374727069": {
      "model_module": "@jupyter-widgets/controls",
      "model_module_version": "1.2.0",
      "model_name": "VBoxModel",
      "state": {
       "children": [
        "IPY_MODEL_c7f5532afc85411c9df6e95f102773ad",
        "IPY_MODEL_24c91982a8ee4658899064e9a9d864a5"
       ],
       "layout": "IPY_MODEL_3a38464628184625a1e4a415b8780733"
      }
     },
     "5570461508e04c4f83223d1f66b4909d": {
      "model_module": "@jupyter-widgets/controls",
      "model_module_version": "1.2.0",
      "model_name": "HBoxModel",
      "state": {
       "children": [
        "IPY_MODEL_8906e2e476ad4b8298634d4e296d5847",
        "IPY_MODEL_0a85dc9c3e3e48bcbf63873f014e57b6"
       ],
       "layout": "IPY_MODEL_8db07e73e6404b9da63184574be64dc5"
      }
     },
     "5c2260b2a5f7499c9b252561bc04ecf4": {
      "model_module": "@jupyter-widgets/base",
      "model_module_version": "1.0.0",
      "model_name": "LayoutModel",
      "state": {}
     },
     "5d85d166e51e4b6fa5aa01feb6865386": {
      "model_module": "@jupyter-widgets/controls",
      "model_module_version": "1.2.0",
      "model_name": "HBoxModel",
      "state": {
       "children": [
        "IPY_MODEL_0621d3da8e0f4f55adf2f2bfe752bbd9",
        "IPY_MODEL_ef131a5fe7664762af858314371ec41c"
       ],
       "layout": "IPY_MODEL_dc8a9cb472344142ad9a2030d3e9d0c3"
      }
     },
     "5d8a040f7cd54aa8ba5cbaa55a3c20ba": {
      "model_module": "@jupyter-widgets/base",
      "model_module_version": "1.0.0",
      "model_name": "LayoutModel",
      "state": {}
     },
     "634103c56a954455ba1b9e902dcf84fa": {
      "model_module": "@jupyter-widgets/output",
      "model_module_version": "1.0.0",
      "model_name": "OutputModel",
      "state": {
       "layout": "IPY_MODEL_1cc9772b21174f6abaf3c587488a3cc1",
       "outputs": [
        {
         "data": {
          "image/png": "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\n",
          "text/plain": "<Figure size 432x288 with 1 Axes>"
         },
         "metadata": {
          "needs_background": "light"
         },
         "output_type": "display_data"
        }
       ]
      }
     },
     "6528cd42e02f48e68c0d08d6b70d9bb0": {
      "model_module": "@jupyter-widgets/base",
      "model_module_version": "1.0.0",
      "model_name": "LayoutModel",
      "state": {}
     },
     "666ff08c185a46ab89a80a97d08748b4": {
      "model_module": "@jupyter-widgets/base",
      "model_module_version": "1.0.0",
      "model_name": "LayoutModel",
      "state": {}
     },
     "66c302a6da7d4511af7837c8678dc30e": {
      "model_module": "@jupyter-widgets/controls",
      "model_module_version": "1.2.0",
      "model_name": "DescriptionStyleModel",
      "state": {
       "description_width": ""
      }
     },
     "684b6531977b44efb38cca31570641f9": {
      "model_module": "@jupyter-widgets/base",
      "model_module_version": "1.0.0",
      "model_name": "LayoutModel",
      "state": {}
     },
     "68aa5afd668c4580b00d67f6d5240956": {
      "model_module": "@jupyter-widgets/controls",
      "model_module_version": "1.2.0",
      "model_name": "TextModel",
      "state": {
       "description": "Text Window:",
       "layout": "IPY_MODEL_e1e47eb70a0e4f70ac0dbe87a5377209",
       "style": "IPY_MODEL_ccb245e4ad2548b8b68656a786c422b5",
       "value": "Tic Toc"
      }
     },
     "6b23333195bc4ac8b23acab687c9ea0b": {
      "model_module": "@jupyter-widgets/output",
      "model_module_version": "1.0.0",
      "model_name": "OutputModel",
      "state": {
       "layout": "IPY_MODEL_5c2260b2a5f7499c9b252561bc04ecf4",
       "outputs": [
        {
         "data": {
          "image/png": "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\n",
          "text/plain": "<Figure size 432x288 with 1 Axes>"
         },
         "metadata": {
          "needs_background": "light"
         },
         "output_type": "display_data"
        }
       ]
      }
     },
     "6ccf737b5e7148c89802aecaae0426de": {
      "model_module": "@jupyter-widgets/base",
      "model_module_version": "1.0.0",
      "model_name": "LayoutModel",
      "state": {}
     },
     "6ed89cd70a3441d3b15ebafe52a2bb72": {
      "model_module": "@jupyter-widgets/controls",
      "model_module_version": "1.2.0",
      "model_name": "DescriptionStyleModel",
      "state": {
       "description_width": ""
      }
     },
     "6f6e7f297afa4e3d836c348a511bd841": {
      "model_module": "@jupyter-widgets/controls",
      "model_module_version": "1.2.0",
      "model_name": "VBoxModel",
      "state": {
       "children": [
        "IPY_MODEL_b198009721624ff78b4164fd660a276d",
        "IPY_MODEL_83efb30f1eaa4156ae1bc4774aeefa79"
       ],
       "layout": "IPY_MODEL_38ddb2de02e445c99bedff9f4d24ed89"
      }
     },
     "712e8810f96245d99573b56bfd930df4": {
      "model_module": "@jupyter-widgets/controls",
      "model_module_version": "1.2.0",
      "model_name": "VBoxModel",
      "state": {
       "children": [
        "IPY_MODEL_4a53e2e877e6440580d11fc474043888",
        "IPY_MODEL_4e79053acdd2485391837b39f6e12715"
       ],
       "layout": "IPY_MODEL_41cc0a8c47464baca894f100557195af"
      }
     },
     "714674e83f044bdeac835b270f910af0": {
      "model_module": "@jupyter-widgets/base",
      "model_module_version": "1.0.0",
      "model_name": "LayoutModel",
      "state": {}
     },
     "72179ffde2824663a97000479a8ebd89": {
      "model_module": "@jupyter-widgets/base",
      "model_module_version": "1.0.0",
      "model_name": "LayoutModel",
      "state": {}
     },
     "72e9d4349d0a4188acebd9fcbff7eb21": {
      "model_module": "@jupyter-widgets/controls",
      "model_module_version": "1.2.0",
      "model_name": "VBoxModel",
      "state": {
       "children": [
        "IPY_MODEL_ae26b4cd734e4f12b20ce9a733ab0367",
        "IPY_MODEL_fdba72a56c6a486883c3ddab524e1fc7"
       ],
       "layout": "IPY_MODEL_c587bad5cba345c58095b86c129d66a5"
      }
     },
     "7649181d7a974f759ffd9e171e7337c5": {
      "model_module": "@jupyter-widgets/controls",
      "model_module_version": "1.2.0",
      "model_name": "VBoxModel",
      "state": {
       "children": [
        "IPY_MODEL_a9ae879d2bef4950bb86829519ced981",
        "IPY_MODEL_1585dd65ef6240e689d1ddaa554547cd"
       ],
       "layout": "IPY_MODEL_f3a97759bfb24d17964d26b683444522"
      }
     },
     "780ce686515245eab1b24b38de9cfe6d": {
      "model_module": "@jupyter-widgets/controls",
      "model_module_version": "1.2.0",
      "model_name": "VBoxModel",
      "state": {
       "children": [
        "IPY_MODEL_aa1edbbfe98f494998b1d679d0be8d59",
        "IPY_MODEL_cbcb22b1c69b4520a5e04033c16c3baf"
       ],
       "layout": "IPY_MODEL_4b94f56705fa43c3b070d6b9001f86d4"
      }
     },
     "79790de1ae6b4de2b1df9498cb991795": {
      "model_module": "@jupyter-widgets/base",
      "model_module_version": "1.0.0",
      "model_name": "LayoutModel",
      "state": {}
     },
     "7ad6f55329ea4cf79876d3071c37ff21": {
      "model_module": "@jupyter-widgets/controls",
      "model_module_version": "1.2.0",
      "model_name": "ButtonModel",
      "state": {
       "description": "Plot Me",
       "layout": "IPY_MODEL_fb5223de39f0403f9cc23dfe231168a2",
       "style": "IPY_MODEL_5074ee0f8d56479fae49f1a28b4a0f73"
      }
     },
     "7bd1fa64bf294a6f89978e9a08f132d5": {
      "model_module": "@jupyter-widgets/base",
      "model_module_version": "1.0.0",
      "model_name": "LayoutModel",
      "state": {}
     },
     "7d202a2a48374c18ad77fddb7bcf2c4f": {
      "model_module": "@jupyter-widgets/controls",
      "model_module_version": "1.2.0",
      "model_name": "DropdownModel",
      "state": {
       "_options_labels": [
        "C",
        "H",
        "N"
       ],
       "description": "Atom:",
       "index": 1,
       "layout": "IPY_MODEL_acba4a45624b473cab3d0e91245ef169",
       "style": "IPY_MODEL_8bbf30792297478aacb62cd1a765f298"
      }
     },
     "7d4647e892564b6dbf8e7b2f1f9cdd10": {
      "model_module": "@jupyter-widgets/base",
      "model_module_version": "1.0.0",
      "model_name": "LayoutModel",
      "state": {}
     },
     "7dad9ecba9d4448c8d16b94d65168086": {
      "model_module": "@jupyter-widgets/controls",
      "model_module_version": "1.2.0",
      "model_name": "DescriptionStyleModel",
      "state": {
       "description_width": ""
      }
     },
     "81628337b1f94b93be3a92333b4cad85": {
      "model_module": "@jupyter-widgets/base",
      "model_module_version": "1.0.0",
      "model_name": "LayoutModel",
      "state": {}
     },
     "83efb30f1eaa4156ae1bc4774aeefa79": {
      "model_module": "@jupyter-widgets/output",
      "model_module_version": "1.0.0",
      "model_name": "OutputModel",
      "state": {
       "layout": "IPY_MODEL_c93533087a024b8bab9f2f427f97a98b"
      }
     },
     "85876805102342d1bccce7e1966fad7f": {
      "model_module": "@jupyter-widgets/base",
      "model_module_version": "1.0.0",
      "model_name": "LayoutModel",
      "state": {}
     },
     "87c999cd4b89429c8c17982302c48410": {
      "model_module": "@jupyter-widgets/controls",
      "model_module_version": "1.2.0",
      "model_name": "SliderStyleModel",
      "state": {
       "description_width": ""
      }
     },
     "88b1fe07fcae477e898750c00717db8a": {
      "model_module": "@jupyter-widgets/base",
      "model_module_version": "1.0.0",
      "model_name": "LayoutModel",
      "state": {}
     },
     "8906e2e476ad4b8298634d4e296d5847": {
      "model_module": "@jupyter-widgets/controls",
      "model_module_version": "1.2.0",
      "model_name": "VBoxModel",
      "state": {
       "children": [
        "IPY_MODEL_fcb2aaa8439046458f2bdcdf26bfa7e6",
        "IPY_MODEL_3a3da6531ca44a449468103fcfad4ebf"
       ],
       "layout": "IPY_MODEL_72179ffde2824663a97000479a8ebd89"
      }
     },
     "8947784d1c134d1c8d0c5fcf60465cd9": {
      "model_module": "@jupyter-widgets/controls",
      "model_module_version": "1.2.0",
      "model_name": "DropdownModel",
      "state": {
       "_options_labels": [
        "C",
        "H",
        "N"
       ],
       "description": "Atom:",
       "index": 0,
       "layout": "IPY_MODEL_88b1fe07fcae477e898750c00717db8a",
       "style": "IPY_MODEL_66c302a6da7d4511af7837c8678dc30e"
      }
     },
     "89aec99344464455803b2e5c77ad7e1a": {
      "model_module": "@jupyter-widgets/base",
      "model_module_version": "1.0.0",
      "model_name": "LayoutModel",
      "state": {}
     },
     "8aa951d99b8f42d3889d5fb78dade846": {
      "model_module": "@jupyter-widgets/controls",
      "model_module_version": "1.2.0",
      "model_name": "ButtonStyleModel",
      "state": {}
     },
     "8b66a2fd238f4ea8a9113fc0addb2647": {
      "model_module": "@jupyter-widgets/controls",
      "model_module_version": "1.2.0",
      "model_name": "HBoxModel",
      "state": {
       "children": [
        "IPY_MODEL_a0cbc0e6162a4dab9cf1669bae603860",
        "IPY_MODEL_ef131a5fe7664762af858314371ec41c"
       ],
       "layout": "IPY_MODEL_97e305fdbc874315a6508771ac03f298"
      }
     },
     "8bbf30792297478aacb62cd1a765f298": {
      "model_module": "@jupyter-widgets/controls",
      "model_module_version": "1.2.0",
      "model_name": "DescriptionStyleModel",
      "state": {
       "description_width": ""
      }
     },
     "8db07e73e6404b9da63184574be64dc5": {
      "model_module": "@jupyter-widgets/base",
      "model_module_version": "1.0.0",
      "model_name": "LayoutModel",
      "state": {}
     },
     "9008404f142542589c550757b0ab05c1": {
      "model_module": "@jupyter-widgets/controls",
      "model_module_version": "1.2.0",
      "model_name": "VBoxModel",
      "state": {
       "children": [
        "IPY_MODEL_fcb2aaa8439046458f2bdcdf26bfa7e6",
        "IPY_MODEL_0a85dc9c3e3e48bcbf63873f014e57b6",
        "IPY_MODEL_3a3da6531ca44a449468103fcfad4ebf"
       ],
       "layout": "IPY_MODEL_d48ded70f28340dea994cf8713452794"
      }
     },
     "911d51291bc54192aa12abcfd9254b63": {
      "model_module": "@jupyter-widgets/controls",
      "model_module_version": "1.2.0",
      "model_name": "ButtonStyleModel",
      "state": {}
     },
     "91f9e0093ba443079ae0115b9c83a42f": {
      "model_module": "@jupyter-widgets/base",
      "model_module_version": "1.0.0",
      "model_name": "LayoutModel",
      "state": {}
     },
     "92286f10278f498ebe6ef2b5749ab8d4": {
      "model_module": "@jupyter-widgets/base",
      "model_module_version": "1.0.0",
      "model_name": "LayoutModel",
      "state": {}
     },
     "9249bf1efbd6414a996cde646fc75039": {
      "model_module": "@jupyter-widgets/base",
      "model_module_version": "1.0.0",
      "model_name": "LayoutModel",
      "state": {}
     },
     "96ea86f1d801410fa57cfb6b221a4558": {
      "model_module": "@jupyter-widgets/controls",
      "model_module_version": "1.2.0",
      "model_name": "ButtonStyleModel",
      "state": {}
     },
     "971cb530db674b8292bc653de6ae2621": {
      "model_module": "@jupyter-widgets/controls",
      "model_module_version": "1.2.0",
      "model_name": "ButtonStyleModel",
      "state": {}
     },
     "974368581eed4372b7f68d0e0b705767": {
      "model_module": "@jupyter-widgets/base",
      "model_module_version": "1.0.0",
      "model_name": "LayoutModel",
      "state": {}
     },
     "978d1e145330402c8dd0a5b1669a8de7": {
      "model_module": "@jupyter-widgets/controls",
      "model_module_version": "1.2.0",
      "model_name": "VBoxModel",
      "state": {
       "children": [
        "IPY_MODEL_1e75e39064b846d3ac50da64de2a4f56",
        "IPY_MODEL_edbbf977e4b348298e4f8bc602b86962"
       ],
       "layout": "IPY_MODEL_d029b6a03aa3423c9631c7a0f6341298"
      }
     },
     "97e305fdbc874315a6508771ac03f298": {
      "model_module": "@jupyter-widgets/base",
      "model_module_version": "1.0.0",
      "model_name": "LayoutModel",
      "state": {}
     },
     "98cd70abd1cd4c9cad5d47e3e85f355b": {
      "model_module": "@jupyter-widgets/controls",
      "model_module_version": "1.2.0",
      "model_name": "SelectMultipleModel",
      "state": {
       "_options_labels": [
        "longitude",
        "latitude",
        "housing_median_age",
        "total_rooms",
        "total_bedrooms",
        "population",
        "households",
        "median_income",
        "median_house_value"
       ],
       "description": "Numeric",
       "index": [
        1
       ],
       "layout": "IPY_MODEL_19e7fdcf6ba741519b6bb4e31c1a5ea1",
       "rows": 5,
       "style": "IPY_MODEL_4d92f74cb66741a0be8a1f60ab6a1585"
      }
     },
     "9a2ac11d4fb9465bbfd6403d0726b447": {
      "model_module": "@jupyter-widgets/base",
      "model_module_version": "1.0.0",
      "model_name": "LayoutModel",
      "state": {}
     },
     "9a5be26645654c2bb80c64e88cbaabbd": {
      "model_module": "@jupyter-widgets/controls",
      "model_module_version": "1.2.0",
      "model_name": "VBoxModel",
      "state": {
       "children": [
        "IPY_MODEL_a9ae879d2bef4950bb86829519ced981",
        "IPY_MODEL_c135deed67f548f1a7bf9fbb5cd9ef8f",
        "IPY_MODEL_1585dd65ef6240e689d1ddaa554547cd"
       ],
       "layout": "IPY_MODEL_361cd289553e4edb84c5922a938784b1"
      }
     },
     "9bcd62c8a23745d78c18ba5a406064e4": {
      "model_module": "@jupyter-widgets/output",
      "model_module_version": "1.0.0",
      "model_name": "OutputModel",
      "state": {
       "layout": "IPY_MODEL_666ff08c185a46ab89a80a97d08748b4",
       "outputs": [
        {
         "data": {
          "image/png": "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\n",
          "text/plain": "<Figure size 432x288 with 1 Axes>"
         },
         "metadata": {
          "needs_background": "light"
         },
         "output_type": "display_data"
        }
       ]
      }
     },
     "9bd529568a0c49d8a764e0e94811f271": {
      "model_module": "@jupyter-widgets/base",
      "model_module_version": "1.0.0",
      "model_name": "LayoutModel",
      "state": {}
     },
     "9d87db248f8a42eeb5905412c1ddb6f3": {
      "model_module": "@jupyter-widgets/controls",
      "model_module_version": "1.2.0",
      "model_name": "HBoxModel",
      "state": {
       "children": [
        "IPY_MODEL_318e4446a91f4ac0a503798ebff74dac",
        "IPY_MODEL_ef131a5fe7664762af858314371ec41c"
       ],
       "layout": "IPY_MODEL_3d4118c702544df1bf96b9edfdbbaf89"
      }
     },
     "9e59a62d5c794265bf294e82233ca296": {
      "model_module": "@jupyter-widgets/base",
      "model_module_version": "1.0.0",
      "model_name": "LayoutModel",
      "state": {}
     },
     "a07032cce01b45549605f2d5488929ef": {
      "model_module": "@jupyter-widgets/controls",
      "model_module_version": "1.2.0",
      "model_name": "DescriptionStyleModel",
      "state": {
       "description_width": ""
      }
     },
     "a0cbc0e6162a4dab9cf1669bae603860": {
      "model_module": "@jupyter-widgets/controls",
      "model_module_version": "1.2.0",
      "model_name": "VBoxModel",
      "state": {
       "children": [
        "IPY_MODEL_1e75e39064b846d3ac50da64de2a4f56",
        "IPY_MODEL_edbbf977e4b348298e4f8bc602b86962"
       ],
       "layout": "IPY_MODEL_91f9e0093ba443079ae0115b9c83a42f"
      }
     },
     "a3b8cf3bd277459eb161ef20a350e688": {
      "model_module": "@jupyter-widgets/output",
      "model_module_version": "1.0.0",
      "model_name": "OutputModel",
      "state": {
       "layout": "IPY_MODEL_7d4647e892564b6dbf8e7b2f1f9cdd10",
       "outputs": [
        {
         "data": {
          "image/png": "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\n",
          "text/plain": "<Figure size 360x216 with 1 Axes>"
         },
         "metadata": {
          "needs_background": "light"
         },
         "output_type": "display_data"
        }
       ]
      }
     },
     "a9ae879d2bef4950bb86829519ced981": {
      "model_module": "@jupyter-widgets/controls",
      "model_module_version": "1.2.0",
      "model_name": "DropdownModel",
      "state": {
       "_options_labels": [
        "C",
        "H",
        "N"
       ],
       "description": "Atom:",
       "index": 1,
       "layout": "IPY_MODEL_22f67d9655154de99eb98d08b95e0018",
       "style": "IPY_MODEL_7dad9ecba9d4448c8d16b94d65168086"
      }
     },
     "aa1edbbfe98f494998b1d679d0be8d59": {
      "model_module": "@jupyter-widgets/controls",
      "model_module_version": "1.2.0",
      "model_name": "ButtonModel",
      "state": {
       "description": "Plot Me",
       "layout": "IPY_MODEL_2a8e1384a5f0430d85594515401e470a",
       "style": "IPY_MODEL_cfa25977ea5e4ae8839242463667af4d"
      }
     },
     "acba4a45624b473cab3d0e91245ef169": {
      "model_module": "@jupyter-widgets/base",
      "model_module_version": "1.0.0",
      "model_name": "LayoutModel",
      "state": {}
     },
     "ad4caf8979574c08afa12aec5f138530": {
      "model_module": "@jupyter-widgets/controls",
      "model_module_version": "1.2.0",
      "model_name": "VBoxModel",
      "state": {
       "children": [
        "IPY_MODEL_fe688f7849e84984a57f536f0a1415ad",
        "IPY_MODEL_232467ca5f784e059d19d3b7caedc87c"
       ],
       "layout": "IPY_MODEL_eb97792863994838bb94983e2ce0ed08"
      }
     },
     "ae26b4cd734e4f12b20ce9a733ab0367": {
      "model_module": "@jupyter-widgets/controls",
      "model_module_version": "1.2.0",
      "model_name": "ButtonModel",
      "state": {
       "description": "Plot Me",
       "layout": "IPY_MODEL_4243952757cf431c83217a578e90eb88",
       "style": "IPY_MODEL_8aa951d99b8f42d3889d5fb78dade846"
      }
     },
     "afb4d5bebeee488f841b3f3b1680a548": {
      "model_module": "@jupyter-widgets/controls",
      "model_module_version": "1.2.0",
      "model_name": "ButtonStyleModel",
      "state": {}
     },
     "aff52576421d4561a23d12fece53d737": {
      "model_module": "@jupyter-widgets/controls",
      "model_module_version": "1.2.0",
      "model_name": "SliderStyleModel",
      "state": {
       "description_width": ""
      }
     },
     "b05173dae4e7495f91b22374e49aad7b": {
      "model_module": "@jupyter-widgets/controls",
      "model_module_version": "1.2.0",
      "model_name": "ButtonModel",
      "state": {
       "description": "Plot Me",
       "layout": "IPY_MODEL_974368581eed4372b7f68d0e0b705767",
       "style": "IPY_MODEL_911d51291bc54192aa12abcfd9254b63"
      }
     },
     "b198009721624ff78b4164fd660a276d": {
      "model_module": "@jupyter-widgets/controls",
      "model_module_version": "1.2.0",
      "model_name": "ButtonModel",
      "state": {
       "description": "Plot Me",
       "layout": "IPY_MODEL_066bf8714bce481585d4c89d2454eb66",
       "style": "IPY_MODEL_afb4d5bebeee488f841b3f3b1680a548"
      }
     },
     "b1c8cd3eef1a4a7bb1b99c54f1709703": {
      "model_module": "@jupyter-widgets/controls",
      "model_module_version": "1.2.0",
      "model_name": "ButtonModel",
      "state": {
       "description": "Plot Me",
       "layout": "IPY_MODEL_42c230f54bc64526b77eb5bc2a17817e",
       "style": "IPY_MODEL_96ea86f1d801410fa57cfb6b221a4558"
      }
     },
     "b40e9b1916204ec4b342051a8b027594": {
      "model_module": "@jupyter-widgets/base",
      "model_module_version": "1.0.0",
      "model_name": "LayoutModel",
      "state": {}
     },
     "b71586c6364c4cd8a06388955127a5ec": {
      "model_module": "@jupyter-widgets/output",
      "model_module_version": "1.0.0",
      "model_name": "OutputModel",
      "state": {
       "layout": "IPY_MODEL_d85cf6d2838745acb18245b27203b907",
       "outputs": [
        {
         "data": {
          "image/png": "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\n",
          "text/plain": "<Figure size 432x288 with 1 Axes>"
         },
         "metadata": {
          "needs_background": "light"
         },
         "output_type": "display_data"
        }
       ]
      }
     },
     "ba6f32826d554b07911802a0b1658cbd": {
      "model_module": "@jupyter-widgets/controls",
      "model_module_version": "1.2.0",
      "model_name": "HBoxModel",
      "state": {
       "children": [
        "IPY_MODEL_0b7b8abc5af74042a024695adb898c28",
        "IPY_MODEL_ef131a5fe7664762af858314371ec41c"
       ],
       "layout": "IPY_MODEL_040b6a6168054cccbc716077344a7a7e"
      }
     },
     "bad7b2bda8e2447a9db5da1aa53a91ec": {
      "model_module": "@jupyter-widgets/controls",
      "model_module_version": "1.2.0",
      "model_name": "VBoxModel",
      "state": {
       "children": [
        "IPY_MODEL_0b4cc5db8d164d949fd35274b1936397",
        "IPY_MODEL_9bcd62c8a23745d78c18ba5a406064e4"
       ],
       "layout": "IPY_MODEL_4b4405d82c39480cb1abe090e737b95e"
      }
     },
     "bc57088100c3417fb3ce582863c24b3a": {
      "model_module": "@jupyter-widgets/base",
      "model_module_version": "1.0.0",
      "model_name": "LayoutModel",
      "state": {}
     },
     "bce9d34f39654f1a8e97fb8d86e5b7f0": {
      "model_module": "@jupyter-widgets/controls",
      "model_module_version": "1.2.0",
      "model_name": "ButtonModel",
      "state": {
       "description": "Run",
       "layout": "IPY_MODEL_684b6531977b44efb38cca31570641f9",
       "style": "IPY_MODEL_971cb530db674b8292bc653de6ae2621"
      }
     },
     "be130baf5b8e4466a274fde708686712": {
      "model_module": "@jupyter-widgets/controls",
      "model_module_version": "1.2.0",
      "model_name": "VBoxModel",
      "state": {
       "children": [
        "IPY_MODEL_4a3e2e37ce1745e1813430c989229d53",
        "IPY_MODEL_daae12068e294003af3fd79aaab52bec"
       ],
       "layout": "IPY_MODEL_ceb04804c81940dc918e9a0c493f68fd"
      }
     },
     "be6f358658de4a0b8001fdc5f85596f1": {
      "model_module": "@jupyter-widgets/output",
      "model_module_version": "1.0.0",
      "model_name": "OutputModel",
      "state": {
       "layout": "IPY_MODEL_9249bf1efbd6414a996cde646fc75039",
       "outputs": [
        {
         "ename": "NameError",
         "evalue": "name 'plt' is not defined",
         "output_type": "error",
         "traceback": [
          "\u001b[0;31m---------------------------------------------------------------------------\u001b[0m",
          "\u001b[0;31mNameError\u001b[0m                                 Traceback (most recent call last)",
          "\u001b[0;32m<ipython-input-11-aee88d30d435>\u001b[0m in \u001b[0;36mreaction2\u001b[0;34m(_)\u001b[0m\n\u001b[1;32m      8\u001b[0m         \u001b[0mclear_output\u001b[0m\u001b[0;34m(\u001b[0m\u001b[0;34m)\u001b[0m\u001b[0;34m\u001b[0m\u001b[0m\n\u001b[1;32m      9\u001b[0m         \u001b[0;31m# Change whatever you want here!\u001b[0m\u001b[0;34m\u001b[0m\u001b[0;34m\u001b[0m\u001b[0m\n\u001b[0;32m---> 10\u001b[0;31m         \u001b[0mplt\u001b[0m\u001b[0;34m.\u001b[0m\u001b[0mplot\u001b[0m\u001b[0;34m(\u001b[0m\u001b[0;34m[\u001b[0m\u001b[0mi\u001b[0m\u001b[0;34m**\u001b[0m\u001b[0;36m3\u001b[0m \u001b[0;32mfor\u001b[0m \u001b[0mi\u001b[0m \u001b[0;32min\u001b[0m \u001b[0mrange\u001b[0m\u001b[0;34m(\u001b[0m\u001b[0;36m10\u001b[0m\u001b[0;34m)\u001b[0m\u001b[0;34m]\u001b[0m\u001b[0;34m)\u001b[0m\u001b[0;34m\u001b[0m\u001b[0m\n\u001b[0m\u001b[1;32m     11\u001b[0m         \u001b[0mplt\u001b[0m\u001b[0;34m.\u001b[0m\u001b[0mtitle\u001b[0m\u001b[0;34m(\u001b[0m\u001b[0;34m'Yes!'\u001b[0m\u001b[0;34m)\u001b[0m\u001b[0;34m\u001b[0m\u001b[0m\n\u001b[1;32m     12\u001b[0m         \u001b[0mplt\u001b[0m\u001b[0;34m.\u001b[0m\u001b[0mshow\u001b[0m\u001b[0;34m(\u001b[0m\u001b[0;34m)\u001b[0m\u001b[0;34m\u001b[0m\u001b[0m\n",
          "\u001b[0;31mNameError\u001b[0m: name 'plt' is not defined"
         ]
        }
       ]
      }
     },
     "c135deed67f548f1a7bf9fbb5cd9ef8f": {
      "model_module": "@jupyter-widgets/controls",
      "model_module_version": "1.2.0",
      "model_name": "IntSliderModel",
      "state": {
       "description": "Number:",
       "layout": "IPY_MODEL_0b57f00ac920428694eaf7f1ba16971e",
       "max": 4,
       "min": 1,
       "style": "IPY_MODEL_aff52576421d4561a23d12fece53d737",
       "value": 2
      }
     },
     "c43368f435ce4b669762c70fcdc36db3": {
      "model_module": "@jupyter-widgets/controls",
      "model_module_version": "1.2.0",
      "model_name": "HBoxModel",
      "state": {
       "children": [
        "IPY_MODEL_eb7e0720c2c04f19947420f3ae34aad1",
        "IPY_MODEL_ef131a5fe7664762af858314371ec41c"
       ],
       "layout": "IPY_MODEL_2e2800abc2904c98950bea94ce76a5ed"
      }
     },
     "c587bad5cba345c58095b86c129d66a5": {
      "model_module": "@jupyter-widgets/base",
      "model_module_version": "1.0.0",
      "model_name": "LayoutModel",
      "state": {}
     },
     "c7f5532afc85411c9df6e95f102773ad": {
      "model_module": "@jupyter-widgets/controls",
      "model_module_version": "1.2.0",
      "model_name": "ButtonModel",
      "state": {
       "description": "Print Me",
       "layout": "IPY_MODEL_52ad4bb44d784e7a898382f2df0ba460",
       "style": "IPY_MODEL_e2b8cf5815964ea9ab0b5106424300ae"
      }
     },
     "c93533087a024b8bab9f2f427f97a98b": {
      "model_module": "@jupyter-widgets/base",
      "model_module_version": "1.0.0",
      "model_name": "LayoutModel",
      "state": {}
     },
     "c9a4826f051b468e858d0c2db0f46e4b": {
      "model_module": "@jupyter-widgets/base",
      "model_module_version": "1.0.0",
      "model_name": "LayoutModel",
      "state": {}
     },
     "cbb0b3e718004a4bbd7ce7215c0bd9ae": {
      "model_module": "@jupyter-widgets/controls",
      "model_module_version": "1.2.0",
      "model_name": "ButtonStyleModel",
      "state": {}
     },
     "cbcb22b1c69b4520a5e04033c16c3baf": {
      "model_module": "@jupyter-widgets/output",
      "model_module_version": "1.0.0",
      "model_name": "OutputModel",
      "state": {
       "layout": "IPY_MODEL_ebcb21faee15494fbe62ad40f73a75dc",
       "outputs": [
        {
         "data": {
          "image/png": "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\n",
          "text/plain": "<Figure size 432x288 with 1 Axes>"
         },
         "metadata": {
          "needs_background": "light"
         },
         "output_type": "display_data"
        }
       ]
      }
     },
     "cc66b62e3f004df6a46bcb0be42e8c6d": {
      "model_module": "@jupyter-widgets/base",
      "model_module_version": "1.0.0",
      "model_name": "LayoutModel",
      "state": {}
     },
     "ccb245e4ad2548b8b68656a786c422b5": {
      "model_module": "@jupyter-widgets/controls",
      "model_module_version": "1.2.0",
      "model_name": "DescriptionStyleModel",
      "state": {
       "description_width": ""
      }
     },
     "cd04bdea77964c8e9a259c1d1dd3ceb6": {
      "model_module": "@jupyter-widgets/controls",
      "model_module_version": "1.2.0",
      "model_name": "SliderStyleModel",
      "state": {
       "description_width": ""
      }
     },
     "cd12745cd357497d9a8b5a496ed010be": {
      "model_module": "@jupyter-widgets/output",
      "model_module_version": "1.0.0",
      "model_name": "OutputModel",
      "state": {
       "layout": "IPY_MODEL_eafe2f342421436ca8397a7cd802600a",
       "outputs": [
        {
         "name": "stdout",
         "output_type": "stream",
         "text": "Yes!\nYes!\n"
        }
       ]
      }
     },
     "ceb04804c81940dc918e9a0c493f68fd": {
      "model_module": "@jupyter-widgets/base",
      "model_module_version": "1.0.0",
      "model_name": "LayoutModel",
      "state": {}
     },
     "cfa25977ea5e4ae8839242463667af4d": {
      "model_module": "@jupyter-widgets/controls",
      "model_module_version": "1.2.0",
      "model_name": "ButtonStyleModel",
      "state": {}
     },
     "d029b6a03aa3423c9631c7a0f6341298": {
      "model_module": "@jupyter-widgets/base",
      "model_module_version": "1.0.0",
      "model_name": "LayoutModel",
      "state": {}
     },
     "d27b082d2c814ac18f84d3b0e05de626": {
      "model_module": "@jupyter-widgets/controls",
      "model_module_version": "1.2.0",
      "model_name": "ButtonStyleModel",
      "state": {}
     },
     "d431e598ad90456ca22fcbf4b141df6a": {
      "model_module": "@jupyter-widgets/base",
      "model_module_version": "1.0.0",
      "model_name": "LayoutModel",
      "state": {}
     },
     "d46e9594cd654ceca206b7d90f5e9606": {
      "model_module": "@jupyter-widgets/controls",
      "model_module_version": "1.2.0",
      "model_name": "DescriptionStyleModel",
      "state": {
       "description_width": ""
      }
     },
     "d48ded70f28340dea994cf8713452794": {
      "model_module": "@jupyter-widgets/base",
      "model_module_version": "1.0.0",
      "model_name": "LayoutModel",
      "state": {}
     },
     "d4d57febc6234720bd7bd66384d508ed": {
      "model_module": "@jupyter-widgets/base",
      "model_module_version": "1.0.0",
      "model_name": "LayoutModel",
      "state": {}
     },
     "d7e5ef84d0d642bd895699a94d379489": {
      "model_module": "@jupyter-widgets/base",
      "model_module_version": "1.0.0",
      "model_name": "LayoutModel",
      "state": {}
     },
     "d85cf6d2838745acb18245b27203b907": {
      "model_module": "@jupyter-widgets/base",
      "model_module_version": "1.0.0",
      "model_name": "LayoutModel",
      "state": {}
     },
     "d8f00156743643759dc73b7dd3abbb1e": {
      "model_module": "@jupyter-widgets/controls",
      "model_module_version": "1.2.0",
      "model_name": "ButtonStyleModel",
      "state": {}
     },
     "daae12068e294003af3fd79aaab52bec": {
      "model_module": "@jupyter-widgets/output",
      "model_module_version": "1.0.0",
      "model_name": "OutputModel",
      "state": {
       "layout": "IPY_MODEL_3f2ad3ccc84e40048b92d0bc8fca3e0f",
       "outputs": [
        {
         "data": {
          "image/png": "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\n",
          "text/plain": "<Figure size 432x288 with 1 Axes>"
         },
         "metadata": {
          "needs_background": "light"
         },
         "output_type": "display_data"
        }
       ]
      }
     },
     "db208a0fdc144ce2a8052010f86d3025": {
      "model_module": "@jupyter-widgets/base",
      "model_module_version": "1.0.0",
      "model_name": "LayoutModel",
      "state": {}
     },
     "dc8a9cb472344142ad9a2030d3e9d0c3": {
      "model_module": "@jupyter-widgets/base",
      "model_module_version": "1.0.0",
      "model_name": "LayoutModel",
      "state": {}
     },
     "de1ad29c10224f708c70fa53fcc04539": {
      "model_module": "@jupyter-widgets/base",
      "model_module_version": "1.0.0",
      "model_name": "LayoutModel",
      "state": {}
     },
     "e1e47eb70a0e4f70ac0dbe87a5377209": {
      "model_module": "@jupyter-widgets/base",
      "model_module_version": "1.0.0",
      "model_name": "LayoutModel",
      "state": {}
     },
     "e2b8cf5815964ea9ab0b5106424300ae": {
      "model_module": "@jupyter-widgets/controls",
      "model_module_version": "1.2.0",
      "model_name": "ButtonStyleModel",
      "state": {}
     },
     "e6eec4cf7c3045369a22f08d59a2ef61": {
      "model_module": "@jupyter-widgets/controls",
      "model_module_version": "1.2.0",
      "model_name": "VBoxModel",
      "state": {
       "children": [
        "IPY_MODEL_b1c8cd3eef1a4a7bb1b99c54f1709703",
        "IPY_MODEL_be6f358658de4a0b8001fdc5f85596f1"
       ],
       "layout": "IPY_MODEL_9bd529568a0c49d8a764e0e94811f271"
      }
     },
     "e79a2abf2962437c930209fe3e5f5933": {
      "model_module": "@jupyter-widgets/controls",
      "model_module_version": "1.2.0",
      "model_name": "VBoxModel",
      "state": {
       "children": [
        "IPY_MODEL_a3b8cf3bd277459eb161ef20a350e688"
       ],
       "layout": "IPY_MODEL_49da2cd5ea1c407ca4bb2abf49fbf599"
      }
     },
     "e9c9fb6dc1164b3694cc24b68f9702f1": {
      "model_module": "@jupyter-widgets/base",
      "model_module_version": "1.0.0",
      "model_name": "LayoutModel",
      "state": {}
     },
     "e9d6e48415cd44f1a9a5b4a3e07ccc90": {
      "model_module": "@jupyter-widgets/output",
      "model_module_version": "1.0.0",
      "model_name": "OutputModel",
      "state": {
       "layout": "IPY_MODEL_2418dc6d97a740738709706e7854dd37"
      }
     },
     "eafe2f342421436ca8397a7cd802600a": {
      "model_module": "@jupyter-widgets/base",
      "model_module_version": "1.0.0",
      "model_name": "LayoutModel",
      "state": {}
     },
     "eb7e0720c2c04f19947420f3ae34aad1": {
      "model_module": "@jupyter-widgets/controls",
      "model_module_version": "1.2.0",
      "model_name": "VBoxModel",
      "state": {
       "children": [
        "IPY_MODEL_1e75e39064b846d3ac50da64de2a4f56",
        "IPY_MODEL_edbbf977e4b348298e4f8bc602b86962"
       ],
       "layout": "IPY_MODEL_89aec99344464455803b2e5c77ad7e1a"
      }
     },
     "eb97792863994838bb94983e2ce0ed08": {
      "model_module": "@jupyter-widgets/base",
      "model_module_version": "1.0.0",
      "model_name": "LayoutModel",
      "state": {}
     },
     "ebcb21faee15494fbe62ad40f73a75dc": {
      "model_module": "@jupyter-widgets/base",
      "model_module_version": "1.0.0",
      "model_name": "LayoutModel",
      "state": {}
     },
     "edbbf977e4b348298e4f8bc602b86962": {
      "model_module": "@jupyter-widgets/controls",
      "model_module_version": "1.2.0",
      "model_name": "CheckboxModel",
      "state": {
       "description": "Check addition",
       "disabled": false,
       "layout": "IPY_MODEL_c9a4826f051b468e858d0c2db0f46e4b",
       "style": "IPY_MODEL_d46e9594cd654ceca206b7d90f5e9606",
       "value": false
      }
     },
     "ef131a5fe7664762af858314371ec41c": {
      "model_module": "@jupyter-widgets/controls",
      "model_module_version": "1.2.0",
      "model_name": "IntSliderModel",
      "state": {
       "description": "Number:",
       "layout": "IPY_MODEL_6ccf737b5e7148c89802aecaae0426de",
       "max": 4,
       "min": 1,
       "style": "IPY_MODEL_87c999cd4b89429c8c17982302c48410",
       "value": 2
      }
     },
     "f1330428d0574b4882b561c393bd77dc": {
      "model_module": "@jupyter-widgets/controls",
      "model_module_version": "1.2.0",
      "model_name": "ButtonStyleModel",
      "state": {}
     },
     "f3a97759bfb24d17964d26b683444522": {
      "model_module": "@jupyter-widgets/base",
      "model_module_version": "1.0.0",
      "model_name": "LayoutModel",
      "state": {}
     },
     "f8825cf73e7148eb8a1588728fab65dc": {
      "model_module": "@jupyter-widgets/controls",
      "model_module_version": "1.2.0",
      "model_name": "VBoxModel",
      "state": {
       "children": [
        "IPY_MODEL_1585dd65ef6240e689d1ddaa554547cd",
        "IPY_MODEL_a9ae879d2bef4950bb86829519ced981",
        "IPY_MODEL_c135deed67f548f1a7bf9fbb5cd9ef8f"
       ],
       "layout": "IPY_MODEL_4db083451e0d452492a3584b6b60ff1e"
      }
     },
     "fb2a05264fe4426cbe4f8220494e1f92": {
      "model_module": "@jupyter-widgets/base",
      "model_module_version": "1.0.0",
      "model_name": "LayoutModel",
      "state": {}
     },
     "fb5223de39f0403f9cc23dfe231168a2": {
      "model_module": "@jupyter-widgets/base",
      "model_module_version": "1.0.0",
      "model_name": "LayoutModel",
      "state": {}
     },
     "fcb2aaa8439046458f2bdcdf26bfa7e6": {
      "model_module": "@jupyter-widgets/controls",
      "model_module_version": "1.2.0",
      "model_name": "DropdownModel",
      "state": {
       "_options_labels": [
        "C",
        "H",
        "N"
       ],
       "description": "Atom:",
       "index": 1,
       "layout": "IPY_MODEL_d4d57febc6234720bd7bd66384d508ed",
       "style": "IPY_MODEL_a07032cce01b45549605f2d5488929ef"
      }
     },
     "fd656b251e0e4406b5ec13a7e7d8ec27": {
      "model_module": "@jupyter-widgets/base",
      "model_module_version": "1.0.0",
      "model_name": "LayoutModel",
      "state": {}
     },
     "fdba72a56c6a486883c3ddab524e1fc7": {
      "model_module": "@jupyter-widgets/output",
      "model_module_version": "1.0.0",
      "model_name": "OutputModel",
      "state": {
       "layout": "IPY_MODEL_6528cd42e02f48e68c0d08d6b70d9bb0",
       "outputs": [
        {
         "data": {
          "image/png": "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\n",
          "text/plain": "<Figure size 432x288 with 1 Axes>"
         },
         "metadata": {
          "needs_background": "light"
         },
         "output_type": "display_data"
        }
       ]
      }
     },
     "fe688f7849e84984a57f536f0a1415ad": {
      "model_module": "@jupyter-widgets/controls",
      "model_module_version": "1.2.0",
      "model_name": "ButtonModel",
      "state": {
       "description": "Plot Me",
       "layout": "IPY_MODEL_130af3160afa4284ba5f0f33dc7f501c",
       "style": "IPY_MODEL_d8f00156743643759dc73b7dd3abbb1e"
      }
     },
     "feae0feb085e4b159dcd4e94f9f2f11f": {
      "model_module": "@jupyter-widgets/base",
      "model_module_version": "1.0.0",
      "model_name": "LayoutModel",
      "state": {}
     },
     "ff8777db1b0147fcafcf994dd2eaedbc": {
      "model_module": "@jupyter-widgets/base",
      "model_module_version": "1.0.0",
      "model_name": "LayoutModel",
      "state": {}
     }
    },
    "version_major": 2,
    "version_minor": 0
   }
  }
 },
 "nbformat": 4,
 "nbformat_minor": 2
}
