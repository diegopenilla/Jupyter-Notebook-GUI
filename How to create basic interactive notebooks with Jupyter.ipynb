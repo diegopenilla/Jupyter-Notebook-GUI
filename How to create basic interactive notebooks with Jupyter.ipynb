{
 "cells": [
  {
   "cell_type": "markdown",
   "metadata": {},
   "source": [
    "# How to create basic interactive notebooks in Jupyter\n",
    "\n",
    "For this tutorial, we will be talking about the package [ipywidgets](https://ipywidgets.readthedocs.io/en/stable/user_install.html). The easiest way I could find to add interactive functionality to my notebooks. It is really easy to implement and can be a quick and fun way of exploring data and analyzing results.You will notice that you can craft your own sets of widgets and keep them as tools to be applied under certain situations inside of different notebooks. This is exactly why I like them so much! By the end of this tutorial you will hopefully know how to set up a basic interface to interact with your functions. \n",
    "\n",
    "Before we start with a concrete example, let's have a brief intro into how to play around with some common widgets. You will see that having a widget ready to use in your Jupyter notebook, can be as easy as calling a single function."
   ]
  },
  {
   "cell_type": "markdown",
   "metadata": {},
   "source": [
    "### Adding widgets to your notebook\n",
    "Let's begin right away by creating a dropdown widget. (It will have three possible options to select and an initial value of 'H')."
   ]
  },
  {
   "cell_type": "code",
   "execution_count": 12,
   "metadata": {},
   "outputs": [
    {
     "data": {
      "application/vnd.jupyter.widget-view+json": {
       "model_id": "8947784d1c134d1c8d0c5fcf60465cd9",
       "version_major": 2,
       "version_minor": 0
      },
      "text/plain": [
       "Dropdown(description='Atom:', index=1, options=('C', 'H', 'N'), value='H')"
      ]
     },
     "metadata": {},
     "output_type": "display_data"
    }
   ],
   "source": [
    "import matplotlib.pyplot as plt\n",
    "import ipywidgets as widgets\n",
    "\n",
    "menu = widgets.Dropdown(\n",
    "    options=['C', 'H', 'N'],\n",
    "    value='H',\n",
    "    description='Atom:',\n",
    ")\n",
    "\n",
    "menu"
   ]
  },
  {
   "cell_type": "markdown",
   "metadata": {},
   "source": [
    "Look carefully: to create our dropdown menu we called the Dropdown function. This isn't really anything surprising, but I want to emphasize it because just knowing the widget you want to use is already a good part of the job. Check out [here](https://ipywidgets.readthedocs.io/en/stable/examples/Widget%20List.html)\n",
    " the list of widgets and the code to initialize them in your notebook, you will see that they are very intuitive to use. This was quite a discovery for me at the moment and I encourage you to go ahead and test some these code snippets by yourself.\n",
    "\n",
    "For example, similar to creating a dropdown menu, to add a checkbox you have to call the checkbox function and then specify a couple of intuitive parameters."
   ]
  },
  {
   "cell_type": "code",
   "execution_count": 2,
   "metadata": {},
   "outputs": [
    {
     "data": {
      "application/vnd.jupyter.widget-view+json": {
       "model_id": "3a3da6531ca44a449468103fcfad4ebf",
       "version_major": 2,
       "version_minor": 0
      },
      "text/plain": [
       "Checkbox(value=False, description='Check addition')"
      ]
     },
     "metadata": {},
     "output_type": "display_data"
    }
   ],
   "source": [
    "checkbox = widgets.Checkbox(\n",
    "    value=False,\n",
    "    description='Check addition',)\n",
    "checkbox"
   ]
  },
  {
   "cell_type": "code",
   "execution_count": 4,
   "metadata": {},
   "outputs": [
    {
     "data": {
      "text/plain": [
       "False"
      ]
     },
     "execution_count": 4,
     "metadata": {},
     "output_type": "execute_result"
    }
   ],
   "source": [
    "checkbox.value"
   ]
  },
  {
   "cell_type": "markdown",
   "metadata": {},
   "source": [
    "If you were to add a slider, same thing: you go to the widget list, you grab the snippet for a slider, change some parameters and paste it!"
   ]
  },
  {
   "cell_type": "code",
   "execution_count": 3,
   "metadata": {},
   "outputs": [
    {
     "data": {
      "application/vnd.jupyter.widget-view+json": {
       "model_id": "0a85dc9c3e3e48bcbf63873f014e57b6",
       "version_major": 2,
       "version_minor": 0
      },
      "text/plain": [
       "IntSlider(value=2, description='Number:', max=4, min=1)"
      ]
     },
     "metadata": {},
     "output_type": "display_data"
    }
   ],
   "source": [
    "slider = widgets.IntSlider(value=2, min=1,\n",
    "                           max=4, step=1,\n",
    "                           description='Number:')\n",
    "slider"
   ]
  },
  {
   "cell_type": "markdown",
   "metadata": {},
   "source": [
    "-Cool, so now we can add checkboxes, sliders and menus to the notebook. But what about it?\n",
    "\n",
    "After having designed certain widgets in your environment, a key idea is to refer to the current values of the widgets for the execution of functions. To retrieve the value of a widget object like menu all we have to do, is to call its value attribute by executing menu.value. Similarly, callingcheckbox.value will return the value of our checkbox.\n",
    "\n",
    "However, different widgets can hold different types of values. Whereas menu holds a string, our checkbox holds a boolean value and our slider an integer."
   ]
  },
  {
   "cell_type": "code",
   "execution_count": 13,
   "metadata": {},
   "outputs": [
    {
     "data": {
      "text/plain": [
       "str"
      ]
     },
     "execution_count": 13,
     "metadata": {},
     "output_type": "execute_result"
    }
   ],
   "source": [
    "type(menu.value)"
   ]
  },
  {
   "cell_type": "code",
   "execution_count": 14,
   "metadata": {},
   "outputs": [
    {
     "data": {
      "text/plain": [
       "bool"
      ]
     },
     "execution_count": 14,
     "metadata": {},
     "output_type": "execute_result"
    }
   ],
   "source": [
    "type(checkbox.value)"
   ]
  },
  {
   "cell_type": "code",
   "execution_count": 15,
   "metadata": {},
   "outputs": [
    {
     "data": {
      "text/plain": [
       "int"
      ]
     },
     "execution_count": 15,
     "metadata": {},
     "output_type": "execute_result"
    }
   ],
   "source": [
    "type(slider.value)"
   ]
  },
  {
   "cell_type": "markdown",
   "metadata": {},
   "source": [
    "You will have to keep this mind when you are joining your widgets to work together. But hopefully by now you can already see where this is going…"
   ]
  },
  {
   "cell_type": "code",
   "execution_count": 4,
   "metadata": {},
   "outputs": [],
   "source": [
    "if checkbox.value:\n",
    "    print((menu.value+'-')*slider.value)"
   ]
  },
  {
   "cell_type": "markdown",
   "metadata": {},
   "source": [
    "## Organizing your widgets\n",
    "\n",
    "It seems rather inconvenient to have to scroll back and forth around the notebook to interact with our widgets. Instead, one would prefer to organize widgets to be displayed together. And there are two functions with which you can easily do this. To layout our widget objects vertically or horizontally we can use the functions `widgets.VBox` or `widgets.HBox` respectively. These functions accept only one parameter: a list of widget objects.\n",
    "\n",
    "- Let's organize the widgets we've defined so far in a vertical fashion."
   ]
  },
  {
   "cell_type": "code",
   "execution_count": 5,
   "metadata": {},
   "outputs": [
    {
     "data": {
      "application/vnd.jupyter.widget-view+json": {
       "model_id": "03e1fc543841401eb2114b55b4cdca75",
       "version_major": 2,
       "version_minor": 0
      },
      "text/plain": [
       "VBox(children=(Checkbox(value=False, description='Check addition'), Dropdown(description='Atom:', index=1, opt…"
      ]
     },
     "metadata": {},
     "output_type": "display_data"
    }
   ],
   "source": [
    "#display widgets vertically widgets.VBox()\n",
    "widgets.VBox([checkbox, menu, slider])"
   ]
  },
  {
   "cell_type": "markdown",
   "metadata": {},
   "source": [
    "- Changing the order of items will change the outcome"
   ]
  },
  {
   "cell_type": "code",
   "execution_count": 6,
   "metadata": {},
   "outputs": [
    {
     "data": {
      "application/vnd.jupyter.widget-view+json": {
       "model_id": "9008404f142542589c550757b0ab05c1",
       "version_major": 2,
       "version_minor": 0
      },
      "text/plain": [
       "VBox(children=(Dropdown(description='Atom:', index=1, options=('C', 'H', 'N'), value='H'), IntSlider(value=2, …"
      ]
     },
     "metadata": {},
     "output_type": "display_data"
    }
   ],
   "source": [
    "# display widgets vertically widgets.VBox()\n",
    "widgets.VBox([menu, slider, checkbox])"
   ]
  },
  {
   "cell_type": "markdown",
   "metadata": {},
   "source": [
    "- You can also use these functions inside one another, to customize how your interface is going to look like in more detail. As you start creating more and more widgets, this will be very handy."
   ]
  },
  {
   "cell_type": "code",
   "execution_count": 7,
   "metadata": {},
   "outputs": [
    {
     "data": {
      "application/vnd.jupyter.widget-view+json": {
       "model_id": "5570461508e04c4f83223d1f66b4909d",
       "version_major": 2,
       "version_minor": 0
      },
      "text/plain": [
       "HBox(children=(VBox(children=(Dropdown(description='Atom:', index=1, options=('C', 'H', 'N'), value='H'), Chec…"
      ]
     },
     "metadata": {},
     "output_type": "display_data"
    }
   ],
   "source": [
    "# Using VBox inside of HBox\n",
    "widgets.HBox([widgets.VBox([menu, checkbox]), slider])"
   ]
  },
  {
   "cell_type": "markdown",
   "metadata": {},
   "source": [
    "## What about buttons!\n",
    "\n",
    "Buttons are where the real sauce is. Without them we will always have to execute cells to make stuff happen (as we normally do). But with buttons, we can tell our notebook to react. \n",
    "\n",
    "Below you will find a little snippet I use all the time when creating buttons. There is a whole a lot to talk about in here, but for this brief introduction I'll keep it short. Just like creating a slider or a text window, we create a button with a single function `Button`. **But pressing the button , would do nothing unless we also indicate its output**. So there are a couple of additional things we must do when creating a new button. \n",
    "- Create an \"output\" object with the function `Output` \n",
    "- Create a function that specifies what happens when the button is pressed, the *reaction*.\n",
    "- Link the button and the reaction with the `.on_click `method.\n",
    "\n",
    "Let's check all of this in the snippet below. Make sure to notice where to change what's going to happen when you press the button and you will be good to go."
   ]
  },
  {
   "cell_type": "code",
   "execution_count": 10,
   "metadata": {},
   "outputs": [
    {
     "data": {
      "application/vnd.jupyter.widget-view+json": {
       "model_id": "3a86a658b67b4ad886d782755e480470",
       "version_major": 2,
       "version_minor": 0
      },
      "text/plain": [
       "VBox(children=(Button(description='Print Me', style=ButtonStyle()), Output()))"
      ]
     },
     "metadata": {},
     "output_type": "display_data"
    }
   ],
   "source": [
    "# create a button\n",
    "button= widgets.Button(description='Print Me')\n",
    "# create its output\n",
    "out = widgets.Output()\n",
    "# reaction when button is pressed\n",
    "def reaction(_):\n",
    "    with out:\n",
    "        # Change whatever you want here!\n",
    "        print('Yes!')\n",
    "# linking reaction to button\n",
    "button.on_click(reaction)\n",
    "# display button and its output\n",
    "widgets.VBox([button,out])"
   ]
  },
  {
   "cell_type": "code",
   "execution_count": null,
   "metadata": {},
   "outputs": [],
   "source": []
  },
  {
   "cell_type": "code",
   "execution_count": null,
   "metadata": {},
   "outputs": [],
   "source": []
  },
  {
   "cell_type": "code",
   "execution_count": null,
   "metadata": {},
   "outputs": [],
   "source": []
  },
  {
   "cell_type": "code",
   "execution_count": null,
   "metadata": {},
   "outputs": [],
   "source": []
  },
  {
   "cell_type": "code",
   "execution_count": null,
   "metadata": {},
   "outputs": [],
   "source": []
  },
  {
   "cell_type": "code",
   "execution_count": null,
   "metadata": {},
   "outputs": [],
   "source": []
  },
  {
   "cell_type": "markdown",
   "metadata": {},
   "source": [
    "\n",
    "\n",
    "\n",
    "\n",
    "\n",
    "As we defined inside of the `reaction` function, when we press the button: \"Yes!\" would be printed. Here is a fun little thing: we are using `widgets.VBox` to display the button and its output together! When we click the button, the output is displayed directly below the button. \n",
    "\n",
    "But there is a small problem: clicking the button several times will continuously print \"Yes!\" as shown above. If instead of printing a string we were displaying a plot, this will make it look quite messy. To avoid it, every time we click the button we have to refresh the display with the `clear_output` function.\n",
    "\n",
    "- Let's make a new button to show this!"
   ]
  },
  {
   "cell_type": "code",
   "execution_count": 18,
   "metadata": {},
   "outputs": [
    {
     "data": {
      "application/vnd.jupyter.widget-view+json": {
       "model_id": "bad7b2bda8e2447a9db5da1aa53a91ec",
       "version_major": 2,
       "version_minor": 0
      },
      "text/plain": [
       "VBox(children=(Button(description='Plot Me', style=ButtonStyle()), Output()))"
      ]
     },
     "metadata": {},
     "output_type": "display_data"
    }
   ],
   "source": [
    "from IPython.display import clear_output\n",
    "\n",
    "button2 = widgets.Button(description='Plot Me')\n",
    "out2 = widgets.Output()\n",
    "def reaction2(_):\n",
    "    with out2:\n",
    "        # Refreshing display\n",
    "        clear_output()\n",
    "        # Change whatever you want here!\n",
    "        plt.plot([i**3 for i in range(10)])\n",
    "        plt.title('Yes!')\n",
    "        plt.show()\n",
    "# Liking button2 with reaction2\n",
    "button2.on_click(reaction2)\n",
    "# Displaying button2 and its output\n",
    "widgets.VBox([button2,out2])"
   ]
  },
  {
   "cell_type": "markdown",
   "metadata": {},
   "source": [
    "The `clear_output` function is the first thing that happens when the button is pressed, refreshing the display and solving the problem.\n",
    "\n",
    "Now that you know how to make buttons, a couple of widgets and how to organize them, you really have all the tools you need to start making your own widget boards, as I like to call them."
   ]
  },
  {
   "cell_type": "markdown",
   "metadata": {},
   "source": [
    "## Using widgets to explore a DataFrame"
   ]
  },
  {
   "cell_type": "markdown",
   "metadata": {},
   "source": [
    "Let's have a concrete of example of what you can do with some of the functions we've talked about. Assume that you are comfortably working on some notebook on a rainy Sunday afternoon, when suddenly a csv file appears. You really want to get a quick glimpse of it, but without all the trouble of having to check stuff manually. This is exactly of the kind of situations where widgets have become very handy for me! Whenever there is a repetitive task, you can call your own library of widgets for aid. \n",
    "\n",
    "To show this, assume that you had written notebook long ago (where you had defined some useful functions and widgets). You can execute the old notebook into your current notebook using a magic command from Jupyter: `%run old_notebook.ipynb`.\n",
    "\n",
    "This is a little trick I like a lot. And we can use it to summon the widgets into our notebook.\n",
    "\n",
    "To show this, we will import a saved interface into our notebook. *This interface requires a dataframe to be defined as `df` to work. So we will have to import a dataframe first.*"
   ]
  },
  {
   "cell_type": "code",
   "execution_count": 27,
   "metadata": {},
   "outputs": [],
   "source": [
    "# Importing Data\n",
    "import pandas as pd\n",
    "df = pd.read_csv(\"https://storage.googleapis.com/mledu-datasets/california_housing_train.csv\", sep=\",\")"
   ]
  },
  {
   "cell_type": "code",
   "execution_count": 29,
   "metadata": {},
   "outputs": [
    {
     "data": {
      "application/vnd.jupyter.widget-view+json": {
       "model_id": "336e34a27cc14353aea8d024a99aa157",
       "version_major": 2,
       "version_minor": 0
      },
      "text/plain": [
       "HBox(children=(VBox(children=(SelectMultiple(description='Numeric', options=('longitude', 'latitude', 'housing…"
      ]
     },
     "metadata": {},
     "output_type": "display_data"
    }
   ],
   "source": [
    "%run SimpleGUI.ipynb"
   ]
  },
  {
   "cell_type": "markdown",
   "metadata": {},
   "source": [
    "Here, we execute a set of widgets from a saved notebook using `%run SimpleGUI.ipynb`. Note that when you execute code like this, **the variables from your current notebook will be available for it**. In this case, `SimpleGUI.ipynb` was written to work with a dataframe defined as `df` , but `df` wasn't defined anywhere inside of `SimpleGUI.ipynb` . When you run it, the `df` **defined in your current notebook is the one that is used to set up the interface**. This is the key principle that saves me a lot of time and allows me to reuse my 'widget boards' without modifying any line of code. In other words, remembering the variable(s) that your widgets need to be functional can save a lot of time. \n",
    "\n",
    "You are now ready to start playing around with widgets in Jupyter! There is still a lot we haven't covered, but that's it from me for now. Thanks for taking a look here I really appreciate it. "
   ]
  }
 ],
 "metadata": {
  "kernelspec": {
   "display_name": "Python 3",
   "language": "python",
   "name": "python3"
  },
  "language_info": {
   "codemirror_mode": {
    "name": "ipython",
    "version": 3
   },
   "file_extension": ".py",
   "mimetype": "text/x-python",
   "name": "python",
   "nbconvert_exporter": "python",
   "pygments_lexer": "ipython3",
   "version": "3.6.6"
  },
  "toc": {
   "base_numbering": 1,
   "nav_menu": {},
   "number_sections": false,
   "sideBar": false,
   "skip_h1_title": false,
   "title_cell": "Table of Contents",
   "title_sidebar": "Contents",
   "toc_cell": false,
   "toc_position": {},
   "toc_section_display": false,
   "toc_window_display": false
  }
 },
 "nbformat": 4,
 "nbformat_minor": 2
}
